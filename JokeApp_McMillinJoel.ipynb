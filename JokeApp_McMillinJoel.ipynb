{
 "cells": [
  {
   "cell_type": "code",
   "execution_count": 3,
   "id": "f33e757d",
   "metadata": {},
   "outputs": [
    {
     "name": "stdout",
     "output_type": "stream",
     "text": [
      "<<<<< Welcome to the Chuck Norris Joke Retriever! >>>>>\n",
      "For a joke, enter '1', or to quit, enter '2': 2\n",
      "********************************************************************************************\n",
      "It's OK - They're not that funny anyway... Thanks for using the Chuck Norris Joke Retriever!\n",
      "\n",
      "...Joking like it's 2004: a Chuck Norris Joke Retrieval System...\n"
     ]
    }
   ],
   "source": [
    "import json\n",
    "import requests\n",
    "\n",
    "\n",
    "def get_joke():\n",
    "\n",
    "    # If user immediately exits, the below message is displayed\n",
    "    prompt = input(\"For a joke, enter '1', or to quit, enter '2': \")\n",
    "    if prompt == '2':\n",
    "        print(\"********************************************************************************************\")\n",
    "        print(\"It's OK - They're not that funny anyway... Thanks for using the Chuck Norris Joke Retriever!\")\n",
    "        \n",
    "    # This message displays with the first joke retrieved\n",
    "    while prompt == '1':\n",
    "        response = requests.get(\"https://api.chucknorris.io/jokes/random\")        \n",
    "        chuck = response.json()                                                   \n",
    "        print(\"Here's your joke: \", chuck['value'])                               \n",
    "        prompt = input(\"For another joke, enter '1', or to quit, enter '2': \")    \n",
    "\n",
    "        if prompt == '2':\n",
    "            print(\"*************************************************\")\n",
    "            print(\"Thanks for using the Chuck Norris Joke Retriever!\")\n",
    "            print(\"*************************************************\")\n",
    "            return response\n",
    "    if prompt not in ('1', '2'):    # In case of invalid responses \n",
    "        prompt = input(\"Invalid response - Press Enter to continue\")\n",
    "        get_a_response()\n",
    "\n",
    "\n",
    "\n",
    "def get_a_response():        \n",
    "    \n",
    "    # If user enters a 2 to exit after having pulled 1+ jokes, then this message displays\n",
    "    prompt = input(\"For a joke, enter '1', or to quit, enter '2': \")    \n",
    "    if prompt == '2':                                                   \n",
    "        print(\"*************************************************\")      \n",
    "        print(\"Thanks for using the Chuck Norris Joke Retriever!\")      \n",
    "        print(\"*************************************************\")\n",
    "\n",
    "    while prompt == '1':\n",
    "        response = requests.get(\"https://api.chucknorris.io/jokes/random\")\n",
    "        chuck = response.json()\n",
    "        print(\"Here's your joke: \", chuck['value'])\n",
    "        prompt = input(\"For another joke, enter '1', or to quit, enter '2': \")\n",
    "\n",
    "        if prompt == '2':\n",
    "            print(\"*************************************************\")\n",
    "            print(\"Thanks for using the Chuck Norris Joke Retriever!\")\n",
    "            print(\"*************************************************\")\n",
    "\n",
    "    if prompt not in ('1', '2'):\n",
    "        prompt = input(\"Invalid response - Press Enter to continue\")\n",
    "        get_a_response()\n",
    "\n",
    "\n",
    "def main():\n",
    "    \n",
    "    # The welcome message for the joke retrieval app\n",
    "    print(\"<<<<< Welcome to the Chuck Norris Joke Retriever! >>>>>\")\n",
    "    get_joke()\n",
    "    print('')\n",
    "    print(\"...Joking like it's 2004: a Chuck Norris Joke Retrieval System...\")    \n",
    "                                                                                  \n",
    "\n",
    "if __name__ == \"__main__\":\n",
    "    main()\n",
    "\n",
    "\n",
    "\n",
    "\n"
   ]
  },
  {
   "cell_type": "code",
   "execution_count": null,
   "id": "2ba264c1",
   "metadata": {},
   "outputs": [],
   "source": []
  }
 ],
 "metadata": {
  "kernelspec": {
   "display_name": "Python 3 (ipykernel)",
   "language": "python",
   "name": "python3"
  },
  "language_info": {
   "codemirror_mode": {
    "name": "ipython",
    "version": 3
   },
   "file_extension": ".py",
   "mimetype": "text/x-python",
   "name": "python",
   "nbconvert_exporter": "python",
   "pygments_lexer": "ipython3",
   "version": "3.9.12"
  }
 },
 "nbformat": 4,
 "nbformat_minor": 5
}
