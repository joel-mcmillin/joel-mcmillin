{
 "cells": [
  {
   "cell_type": "markdown",
   "id": "ac52222a",
   "metadata": {},
   "source": [
    "### API work with Project Gutenberg, OMDB and Twitter"
   ]
  },
  {
   "cell_type": "code",
   "execution_count": 2,
   "id": "6b779122",
   "metadata": {},
   "outputs": [],
   "source": [
    "# Importing libraries\n",
    "\n",
    "import urllib.request, urllib.parse, urllib.error\n",
    "import requests\n",
    "from bs4 import BeautifulSoup\n",
    "import ssl\n",
    "import re"
   ]
  },
  {
   "cell_type": "code",
   "execution_count": 3,
   "id": "2f9a45fc",
   "metadata": {},
   "outputs": [],
   "source": [
    "#Checking the SSL certificate:\n",
    "\n",
    "ctx = ssl.create_default_context()\n",
    "ctx.check_hostname = False\n",
    "ctx.verify_mode = ssl.CERT_NONE"
   ]
  },
  {
   "cell_type": "code",
   "execution_count": 4,
   "id": "e2bba237",
   "metadata": {},
   "outputs": [],
   "source": [
    "# Read the HTML from the URL:\n",
    "\n",
    "top100url = 'https://www.gutenberg.org/browse/scores/top'\n",
    "response = requests.get(top100url)"
   ]
  },
  {
   "cell_type": "code",
   "execution_count": 5,
   "id": "5695baa2",
   "metadata": {},
   "outputs": [],
   "source": [
    "# A function to check the status of the web request:\n",
    "\n",
    "def status_check(r):\n",
    "    if r.status_code==200:\n",
    "        print(\"Success!\")\n",
    "        return 1\n",
    "    else:\n",
    "        print(\"Request Failed\")\n",
    "        return -1"
   ]
  },
  {
   "cell_type": "code",
   "execution_count": 6,
   "id": "59b6c45a",
   "metadata": {},
   "outputs": [
    {
     "name": "stdout",
     "output_type": "stream",
     "text": [
      "Success!\n"
     ]
    },
    {
     "data": {
      "text/plain": [
       "1"
      ]
     },
     "execution_count": 6,
     "metadata": {},
     "output_type": "execute_result"
    }
   ],
   "source": [
    "status_check(response)"
   ]
  },
  {
   "cell_type": "code",
   "execution_count": 7,
   "id": "c3333f4d",
   "metadata": {},
   "outputs": [],
   "source": [
    "# Decode the response and pass onto BeautifulSoup for HTML parsing:\n",
    "\n",
    "contents = response.content.decode(response.encoding)"
   ]
  },
  {
   "cell_type": "code",
   "execution_count": 8,
   "id": "c10f0ac8",
   "metadata": {},
   "outputs": [],
   "source": [
    "soup = BeautifulSoup(contents, 'html.parser')"
   ]
  },
  {
   "cell_type": "code",
   "execution_count": 9,
   "id": "3c08a821",
   "metadata": {},
   "outputs": [],
   "source": [
    "# Finding all the HTML href tags and store them in the list of links\n",
    "\n",
    "link_list = []"
   ]
  },
  {
   "cell_type": "code",
   "execution_count": 10,
   "id": "33a6ca60",
   "metadata": {},
   "outputs": [],
   "source": [
    "for link in soup.find_all('a'):\n",
    "    link_list.append(link.get('href'))"
   ]
  },
  {
   "cell_type": "code",
   "execution_count": 11,
   "id": "e054e1f6",
   "metadata": {},
   "outputs": [
    {
     "data": {
      "text/plain": [
       "['/',\n",
       " '/about/',\n",
       " '/about/',\n",
       " '/policy/collection_development.html',\n",
       " '/about/contact_information.html',\n",
       " '/about/background/',\n",
       " '/policy/permission.html',\n",
       " '/policy/privacy_policy.html',\n",
       " '/policy/terms_of_use.html',\n",
       " '/ebooks/',\n",
       " '/ebooks/',\n",
       " '/ebooks/bookshelf/',\n",
       " '/browse/scores/top',\n",
       " '/ebooks/offline_catalogs.html',\n",
       " '/help/',\n",
       " '/help/',\n",
       " '/help/copyright.html',\n",
       " '/help/errata.html',\n",
       " '/help/file_formats.html',\n",
       " '/help/faq.html',\n",
       " '/policy/',\n",
       " '/help/public_domain_ebook_submission.html',\n",
       " '/help/submitting_your_own_work.html',\n",
       " '/help/mobile.html',\n",
       " '/attic/',\n",
       " '/donate/',\n",
       " '/donate/',\n",
       " '#books-last1',\n",
       " '#authors-last1',\n",
       " '#books-last7',\n",
       " '#authors-last7',\n",
       " '#books-last30',\n",
       " '#authors-last30',\n",
       " '/ebooks/1342',\n",
       " '/ebooks/84',\n",
       " '/ebooks/68122',\n",
       " '/ebooks/11',\n",
       " '/ebooks/20228',\n",
       " '/ebooks/64317',\n",
       " '/ebooks/1661']"
      ]
     },
     "execution_count": 11,
     "metadata": {},
     "output_type": "execute_result"
    }
   ],
   "source": [
    "# Printing the first 40 elements - \n",
    "\n",
    "link_list[:40]"
   ]
  },
  {
   "cell_type": "code",
   "execution_count": 12,
   "id": "c8431f77",
   "metadata": {},
   "outputs": [],
   "source": [
    "# Next, I use a regular expression to find the numeric digits in the links\n",
    "# These are the file numbers for the top 100 eBooks\n",
    "# Also initializing the empty list to hold the file numbers over an appropriate range and\n",
    "# Then, using regex to find numeric digits in the link href string using findall method - \n",
    "\n",
    "book_num = [] #Creating our empty list"
   ]
  },
  {
   "cell_type": "code",
   "execution_count": 13,
   "id": "74c09fde",
   "metadata": {},
   "outputs": [],
   "source": [
    "for i in range(19, 119):\n",
    "    link = link_list[i]\n",
    "    link = link.strip()\n",
    "    n = re.findall('[0-9]+', link)\n",
    "    if len(n) == 1:\n",
    "        book_num.append(int(n[0]))"
   ]
  },
  {
   "cell_type": "code",
   "execution_count": 14,
   "id": "5b27e663",
   "metadata": {},
   "outputs": [
    {
     "name": "stdout",
     "output_type": "stream",
     "text": [
      "\n",
      "The following are file numbers for the top 100 ebooks on Gutenberg:\n",
      "----------------------------------------------------------------------\n",
      "[1, 1, 7, 7, 30, 30, 1342, 84, 68122, 11, 20228, 64317, 1661, 345, 98, 2701, 174, 844, 2542, 43, 1400, 1952, 68123, 1260, 1080, 35899, 1232, 32449, 76, 68124, 2600, 4300, 219, 2554, 25344, 2852, 47629, 1727, 5200, 2591, 46, 55, 514, 74, 6130, 1184, 5740, 30251, 996, 120, 68118, 68116, 3825, 35, 158, 45, 205, 30254, 28054, 2148, 68126, 768, 2814, 135, 1250, 16, 160, 244, 58585, 67098, 408, 20203, 730, 236, 766, 10676, 2500, 1399, 4363, 41360, 1513, 16328, 68127, 829, 215, 41, 161, 27827, 203, 1497, 6737, 4980]\n"
     ]
    }
   ],
   "source": [
    "print (\"\\nThe following are file numbers for the top 100 ebooks on Gutenberg:\\n\"+\"-\"*70)\n",
    "print(book_num)"
   ]
  },
  {
   "cell_type": "code",
   "execution_count": 15,
   "id": "88c4163a",
   "metadata": {},
   "outputs": [
    {
     "name": "stdout",
     "output_type": "stream",
     "text": [
      "\n",
      "\n",
      "\n",
      "\n",
      "Top 100 | Project Gutenberg\n",
      "\n",
      "\n",
      "\n",
      "\n",
      "\n",
      "\n",
      "\n",
      "\n",
      "\n",
      "\n",
      "\n",
      "\n",
      "\n",
      "\n",
      "\n",
      "\n",
      "\n",
      "\n",
      "\n",
      "\n",
      "\n",
      "\n",
      "\n",
      "\n",
      "\n",
      "\n",
      "\n",
      "Menu▾\n",
      "\n",
      "\n",
      "\n",
      "About\n",
      "          ▾\n",
      "\n",
      "▾\n",
      "\n",
      "\n",
      "About Project Gutenberg\n",
      "Collection Development\n",
      "Contact Us\n",
      "History & Philosophy\n",
      "Permissions & License\n",
      "Privacy Policy\n",
      "Terms of Use\n",
      "\n",
      "\n",
      "\n",
      "Search and Browse\n",
      "      \t  ▾\n",
      "\n",
      "▾\n",
      "\n",
      "\n",
      "Book Search\n",
      "Bookshelves\n",
      "Frequently Downloaded\n",
      "Offline Catalogs\n",
      "\n",
      "\n",
      "\n",
      "Help\n",
      "          ▾\n",
      "\n",
      "▾\n",
      "\n",
      "\n",
      "All help topics →\n",
      "Copyright Procedures\n",
      "Errata, Fixes and Bug Reports\n",
      "File Formats\n",
      "Frequently Asked Questions\n",
      "Policies →\n",
      "Public Domain eBook Submission\n",
      "Submitting Your Own Work\n",
      "Tablets, Phones and eReaders\n",
      "The Attic →\n",
      "\n",
      "\n",
      "Donate\n",
      "\n",
      "\n",
      "\n",
      "\n",
      "\n",
      "\n",
      "\n",
      "\n",
      "\n",
      "\n",
      "Donation\n",
      "\n",
      "\n",
      "\n",
      "\n",
      "\n",
      "\n",
      "\n",
      "Frequently Viewed or Downloaded\n",
      "These listings are based on the number of times each eBook gets downloaded.\n",
      "      Multiple downloads from the same Internet address on the same day count as one download, and addresses that download more than 100 eBooks in a day are considered robots and are not counted.\n",
      "\n",
      "Downloaded Books\n",
      "2022-05-19155075\n",
      "last 7 days1067945\n",
      "last 30 days4957866\n",
      "\n",
      "\n",
      "\n",
      "Top 100 EBooks yesterday\n",
      "Top 100 Authors yesterday\n",
      "Top 100 EBooks last 7 days\n",
      "Top 100 Authors last 7 days\n",
      "Top 100 EBooks last 30 days\n",
      "Top 100 Authors last 30 days\n",
      "\n",
      "\n",
      "Top 100 EBooks yesterday\n",
      "\n",
      "Pride and Prejudice by Jane Austen (1910)\n",
      "Frankenstein; Or, The Modern Prometheus by Mary Wollstonecraft Shelley (1661)\n",
      "The Hollow Earth by F. T. Ives (1095)\n",
      "Alice's Adventures in Wonderland by Lewis Carroll (1008)\n",
      "Noli Me Tangere by José Rizal (859)\n",
      "The Great Gatsby by F. Scott  Fitzgerald (847)\n",
      "The Adventures of Sherlock Holmes by Arthur Conan Doyle (841)\n",
      "Dracula by Bram Stoker (709)\n",
      "A Tale of Two Cities by Charles Dickens (665)\n",
      "Moby Dick; Or, The Whale by Herman Melville (665)\n",
      "The Picture of Dorian Gray by Oscar Wilde (649)\n",
      "The Importance of Being Earnest: A Trivial Comedy for Serious People by Oscar Wilde (552)\n",
      "A Doll's House : a play by Henrik Ibsen (551)\n",
      "The Strange Case of Dr. Jekyll and Mr. Hyde by Robert Louis Stevenson (513)\n",
      "Great Expectations by Charles Dickens (495)\n",
      "The Yellow Wallpaper by Charlotte Perkins \n"
     ]
    }
   ],
   "source": [
    "# What does soup object's text look like?\n",
    "# Using .text method we can print and show the first 2,000 characters:\n",
    "\n",
    "print(soup.text[:2000])"
   ]
  },
  {
   "cell_type": "code",
   "execution_count": 16,
   "id": "340b96dc",
   "metadata": {},
   "outputs": [],
   "source": [
    "# I create an empty list for our top 100 books\n",
    "# This can be searched in the extracted text (using regular expressions) from the soup object to find the \n",
    "# names of the top 100 eBooks - \n",
    "\n",
    "title_list = []"
   ]
  },
  {
   "cell_type": "code",
   "execution_count": 17,
   "id": "050325e5",
   "metadata": {},
   "outputs": [],
   "source": [
    "# Next creating a starting index. It should point to the text Top 100 Ebooks yesterday. \n",
    "# This uses the splitlines method of soup.text - \n",
    "\n",
    "start_idx = soup.text.splitlines().index('Top 100 EBooks yesterday')"
   ]
  },
  {
   "cell_type": "code",
   "execution_count": 18,
   "id": "c985eff8",
   "metadata": {},
   "outputs": [],
   "source": [
    "# Looping 1-100 to add the strings of the next 100 lines to this list, also using splitlines method - \n",
    "\n",
    "for i in range(100):\n",
    "    title_list.append(soup.text.splitlines()[start_idx + 2 + i])"
   ]
  },
  {
   "cell_type": "code",
   "execution_count": 19,
   "id": "56582c5b",
   "metadata": {},
   "outputs": [],
   "source": [
    "# Next I use a regular expression to extract only text from the name strings and append it to an empty \n",
    "# list, using match and span:\n",
    "\n",
    "titles_list = []\n",
    "for i in range(100):\n",
    "    id1,id2=re.match('^[a-zA-Z ]*', title_list[i]).span()\n",
    "    titles_list.append(title_list[i][id1:id2])"
   ]
  },
  {
   "cell_type": "code",
   "execution_count": 20,
   "id": "a5f28254",
   "metadata": {},
   "outputs": [
    {
     "name": "stdout",
     "output_type": "stream",
     "text": [
      "Top \n",
      "Top \n",
      "Top \n",
      "Top \n",
      "\n",
      "\n",
      "Top \n",
      "\n",
      "Pride and Prejudice by Jane Austen \n",
      "Frankenstein\n",
      "The Hollow Earth by F\n",
      "Alice\n",
      "Noli Me Tangere by Jos\n",
      "The Great Gatsby by F\n",
      "The Adventures of Sherlock Holmes by Arthur Conan Doyle \n",
      "Dracula by Bram Stoker \n",
      "A Tale of Two Cities by Charles Dickens \n",
      "Moby Dick\n",
      "The Picture of Dorian Gray by Oscar Wilde \n",
      "The Importance of Being Earnest\n",
      "A Doll\n",
      "The Strange Case of Dr\n",
      "Great Expectations by Charles Dickens \n",
      "The Yellow Wallpaper by Charlotte Perkins Gilman \n",
      "The chronicles of Michael Danevitch of the Russian Secret Service by Dick Donovan \n",
      "Jane Eyre\n",
      "A Modest Proposal by Jonathan Swift \n",
      "The Philippines a Century Hence by Jos\n",
      "The Prince by Niccol\n",
      "Japanese Girls and Women by Alice Mabel Bacon \n",
      "Adventures of Huckleberry Finn by Mark Twain \n",
      "With the pilgrims to Mecca\n",
      "War and Peace by graf Leo Tolstoy \n",
      "Ulysses by James Joyce \n",
      "Heart of Darkness by Joseph Conrad \n",
      "Crime and Punishment by Fyodor Dostoyevsky \n",
      "The Scarlet Letter by Nathaniel Hawthorne \n",
      "The Hound of the Baskervilles by Arthur Conan Doyle \n",
      "Ang \n",
      "The Odyssey by Homer \n",
      "Metamorphosis by Franz Kafka \n",
      "Grimms\n",
      "A Christmas Carol in Prose\n",
      "The Wonderful Wizard of Oz by L\n",
      "Little Women by Louisa May Alcott \n",
      "The Adventures of Tom Sawyer\n",
      "The Iliad by Homer \n",
      "The Count of Monte Cristo\n",
      "Tractatus Logico\n",
      "Disqualified by Charles L\n",
      "Don Quixote by Miguel de Cervantes Saavedra \n",
      "Treasure Island by Robert Louis Stevenson \n",
      "Correlated courses in woodwork and mechanical drawing by A\n",
      "Nick Carter Stories No\n",
      "Pygmalion by Bernard Shaw \n",
      "The Time Machine by H\n",
      "Emma by Jane Austen \n",
      "Anne of Green Gables by L\n",
      "Walden\n",
      "The Romance of Lust\n",
      "The Brothers Karamazov by Fyodor Dostoyevsky \n",
      "The Works of Edgar Allan Poe \n",
      "My Diary\n",
      "Wuthering Heights by Emily Bront\n",
      "Dubliners by James Joyce \n",
      "Les Mis\n",
      "Anthem by Ayn Rand \n",
      "Peter Pan by J\n",
      "The Awakening\n",
      "A Study in Scarlet by Arthur Conan Doyle \n",
      "The Prophet by Kahlil Gibran \n",
      "Winnie\n",
      "The Souls of Black Folk by W\n",
      "Autobiography of Benjamin Franklin by Benjamin Franklin \n",
      "Oliver Twist by Charles Dickens \n",
      "The Jungle Book by Rudyard Kipling \n",
      "David Copperfield by Charles Dickens \n",
      "The Reign of Greed by Jos\n",
      "Siddhartha by Hermann Hesse \n",
      "Anna Karenina by graf Leo Tolstoy \n",
      "Beyond Good and Evil by Friedrich Wilhelm Nietzsche \n",
      "The Elementary Forms of the Religious Life by \n",
      "Romeo and Juliet by William Shakespeare \n",
      "Beowulf\n",
      "Stories from the Iliad\n",
      "Gulliver\n",
      "The Call of the Wild by Jack London \n",
      "The Legend of Sleepy Hollow by Washington Irving \n",
      "Sense and Sensibility by Jane Austen \n",
      "The Kama Sutra of Vatsyayana by Vatsyayana \n",
      "Uncle Tom\n",
      "The Republic by Plato \n",
      "The Social Cancer\n",
      "Old Granny Fox by Thornton W\n",
      "The War of the Worlds by H\n",
      "Calculus Made Easy by Silvanus P\n",
      "The Secret Garden by Frances Hodgson Burnett \n",
      "Address of President Roosevelt at Keokuk\n",
      "Meditations by Emperor of Rome Marcus Aurelius \n",
      "Common Sense by Thomas Paine \n"
     ]
    }
   ],
   "source": [
    "# Printing out the titles\n",
    "\n",
    "for t in titles_list:\n",
    "    print(t)"
   ]
  },
  {
   "cell_type": "markdown",
   "id": "6944d0a5",
   "metadata": {},
   "source": [
    "### OMDB API Work - "
   ]
  },
  {
   "cell_type": "code",
   "execution_count": 22,
   "id": "83e714a2",
   "metadata": {},
   "outputs": [],
   "source": [
    "# Import libraries\n",
    "\n",
    "import urllib.request, urllib.parse, urllib.error\n",
    "import json\n",
    "import requests"
   ]
  },
  {
   "cell_type": "code",
   "execution_count": 24,
   "id": "f0404779",
   "metadata": {},
   "outputs": [],
   "source": [
    "# First, creating API Key on the OMDB site which I saved to Jupyter notebook\n",
    "# Then, opening the JSON file\n",
    "\n",
    "with open('APIkeys.json') as f:\n",
    "    keys = json.load(f)\n",
    "    omdbapi = keys['OMDBapi'] \n",
    "    \n",
    "# (Created a JSON file in Jupyter that had a dictionary which saved OMDBapi with my key)"
   ]
  },
  {
   "cell_type": "code",
   "execution_count": 26,
   "id": "86cea84f",
   "metadata": {},
   "outputs": [],
   "source": [
    "# Next, assigning OMDB to variable\n",
    "# Then, creating the apikey variable w/ last portion of the URL and the key\n",
    "\n",
    "serviceurl = 'http://www.omdbapi.com/?'\n",
    "apikey = '&apikey=' + omdbapi            \n",
    "\n",
    "# (The apikey variable is a combo of the end of the URL and the secret \n",
    "# key stored in the omdbapi variable)"
   ]
  },
  {
   "cell_type": "code",
   "execution_count": 27,
   "id": "2b9bc8c9",
   "metadata": {},
   "outputs": [],
   "source": [
    "# Writing a utility fuction called print_json to print the movie data from the portal\n",
    "\n",
    "def print_json(json_data):\n",
    "    list_keys = ['Title', 'Year', 'Rated', 'Released', 'Runtime', 'Genre', 'Director', 'Writer', \n",
    "               'Actors', 'Plot', 'Language', 'Country', 'Awards', 'Ratings', \n",
    "               'Metascore', 'imdbRating', 'imdbVotes', 'imdbID']   \n",
    "    # here are all of the different categories \n",
    "    print(\"-\" * 100)     \n",
    "    # formatting w/ asterisks\n",
    "    for k in list_keys:\n",
    "        if k in list(json_data.keys()):\n",
    "            print(f\"{k}: {json_data[k]}\")\n",
    "    print(\"-\" * 100)"
   ]
  },
  {
   "cell_type": "code",
   "execution_count": 28,
   "id": "bb8fed1b",
   "metadata": {},
   "outputs": [],
   "source": [
    "# Writing a utility function to download a poster of the movie \n",
    "# based on the info from the JSON dataset and save to local folder, using OS module\n",
    "# This will save the image as an image file!\n",
    "\n",
    "def save_poster(json_data):\n",
    "    import os\n",
    "    title = json_data['Title']\n",
    "    poster_url = json_data['Poster']\n",
    "    poster_file_extension=poster_url.split('.')[-1]\n",
    "    poster_data = urllib.request.urlopen(poster_url).read()\n",
    "        \n",
    "    savelocation=os.getcwd()+'\\\\'+'Posters'+'\\\\'\n",
    "    if not os.path.isdir(savelocation):\n",
    "        os.mkdir(savelocation)\n",
    "    \n",
    "    filename=savelocation+str(title)+'.'+poster_file_extension\n",
    "    f=open(filename,'wb')\n",
    "    f.write(poster_data)\n",
    "    f.close()"
   ]
  },
  {
   "cell_type": "code",
   "execution_count": 29,
   "id": "d41baa01",
   "metadata": {},
   "outputs": [],
   "source": [
    "# Writing a utility function called search_movie to search for a \n",
    "# movie by name and printing JSON file and saving the poster in local folder\n",
    "# using Try-Except loop and the serviceurl and apikey variables\n",
    "# Passing on dictionary w key, t, and the movie name as the corresponding value to the urllib.parse.urlencode() \n",
    "# function and adding serviceurl and apikey to the output of the function to construct a full URL. \n",
    "# Also setting it so it will check for errors \n",
    "\n",
    "\n",
    "def search_movie(title):\n",
    "    try:\n",
    "        url = serviceurl + urllib.parse.urlencode({'t': str(title)}) + apikey\n",
    "        print(f'Retrieving \"{title}\" - ')\n",
    "        print(url)\n",
    "        uh = urllib.request.urlopen(url)\n",
    "        data = uh.read()\n",
    "        json_data=json.loads(data)\n",
    "        \n",
    "        if json_data['Response'] == 'True':\n",
    "            print_json(json_data)\n",
    "            if json_data['Poster'] != 'N/A':\n",
    "                save_poster(json_data)\n",
    "        else:\n",
    "            print(\"Error: \", json_data['Error'])\n",
    "    \n",
    "    except urllib.error.URLError as e:\n",
    "        print(f\"Error: {e.reason}\")"
   ]
  },
  {
   "cell_type": "code",
   "execution_count": 30,
   "id": "72343a22",
   "metadata": {},
   "outputs": [
    {
     "name": "stdout",
     "output_type": "stream",
     "text": [
      "Retrieving \"Titanic\" - \n",
      "http://www.omdbapi.com/?t=Titanic&apikey=88c6f22e\n",
      "----------------------------------------------------------------------------------------------------\n",
      "Title: Titanic\n",
      "Year: 1997\n",
      "Rated: PG-13\n",
      "Released: 19 Dec 1997\n",
      "Runtime: 194 min\n",
      "Genre: Drama, Romance\n",
      "Director: James Cameron\n",
      "Writer: James Cameron\n",
      "Actors: Leonardo DiCaprio, Kate Winslet, Billy Zane\n",
      "Plot: A seventeen-year-old aristocrat falls in love with a kind but poor artist aboard the luxurious, ill-fated R.M.S. Titanic.\n",
      "Language: English, Swedish, Italian, French\n",
      "Country: United States, Mexico\n",
      "Awards: Won 11 Oscars. 125 wins & 83 nominations total\n",
      "Ratings: [{'Source': 'Internet Movie Database', 'Value': '7.9/10'}, {'Source': 'Rotten Tomatoes', 'Value': '87%'}, {'Source': 'Metacritic', 'Value': '75/100'}]\n",
      "Metascore: 75\n",
      "imdbRating: 7.9\n",
      "imdbVotes: 1,131,404\n",
      "imdbID: tt0120338\n",
      "----------------------------------------------------------------------------------------------------\n"
     ]
    }
   ],
   "source": [
    "# Testing our search_movie function by entering \"Titanic\" \n",
    "\n",
    "search_movie(\"Titanic\")\n",
    "\n",
    "\n",
    "# (Successfully pulls up movie data!)"
   ]
  },
  {
   "cell_type": "code",
   "execution_count": 31,
   "id": "c1dfafb7",
   "metadata": {},
   "outputs": [
    {
     "name": "stdout",
     "output_type": "stream",
     "text": [
      "Retrieving \"Random_error\" - \n",
      "http://www.omdbapi.com/?t=Random_error&apikey=88c6f22e\n",
      "Error:  Movie not found!\n"
     ]
    }
   ],
   "source": [
    "# Finally, testing search_movie by entering \"Random_error\":\n",
    "\n",
    "search_movie(\"Random_error\")\n",
    "\n",
    "# (Successfully shows movie not found!)"
   ]
  },
  {
   "cell_type": "markdown",
   "id": "95f51a87",
   "metadata": {},
   "source": [
    "### Twitter API Work - Completing a data pull "
   ]
  },
  {
   "cell_type": "code",
   "execution_count": 34,
   "id": "bf7f6b1c",
   "metadata": {},
   "outputs": [
    {
     "name": "stdout",
     "output_type": "stream",
     "text": [
      "Requirement already satisfied: python-twitter in c:\\users\\joelm\\onedrive\\anaconda\\lib\\site-packages (3.5)\n",
      "Requirement already satisfied: requests in c:\\users\\joelm\\onedrive\\anaconda\\lib\\site-packages (from python-twitter) (2.27.1)\n",
      "Requirement already satisfied: future in c:\\users\\joelm\\onedrive\\anaconda\\lib\\site-packages (from python-twitter) (0.18.2)\n",
      "Requirement already satisfied: requests-oauthlib in c:\\users\\joelm\\onedrive\\anaconda\\lib\\site-packages (from python-twitter) (1.3.1)\n",
      "Requirement already satisfied: urllib3<1.27,>=1.21.1 in c:\\users\\joelm\\onedrive\\anaconda\\lib\\site-packages (from requests->python-twitter) (1.26.4)\n",
      "Requirement already satisfied: charset-normalizer~=2.0.0 in c:\\users\\joelm\\onedrive\\anaconda\\lib\\site-packages (from requests->python-twitter) (2.0.12)\n",
      "Requirement already satisfied: idna<4,>=2.5 in c:\\users\\joelm\\onedrive\\anaconda\\lib\\site-packages (from requests->python-twitter) (2.10)\n",
      "Requirement already satisfied: certifi>=2017.4.17 in c:\\users\\joelm\\onedrive\\anaconda\\lib\\site-packages (from requests->python-twitter) (2020.12.5)\n",
      "Requirement already satisfied: oauthlib>=3.0.0 in c:\\users\\joelm\\onedrive\\anaconda\\lib\\site-packages (from requests-oauthlib->python-twitter) (3.2.0)\n"
     ]
    }
   ],
   "source": [
    "!pip install python-twitter"
   ]
  },
  {
   "cell_type": "code",
   "execution_count": 35,
   "id": "d1317283",
   "metadata": {},
   "outputs": [],
   "source": [
    "# Importing the Twitter library and setting api\n",
    "\n",
    "import twitter\n",
    "api = twitter.Api(consumer_key = 'XXXXXX',\n",
    "                  consumer_secret = 'XXXXX',\n",
    "                  access_token_key = 'XXXXX',\n",
    "                  access_token_secret = 'XXXXX')\n",
    "\n",
    "# (I ran w/ the actual tokens but 'XXXXX'd them out for printing...)"
   ]
  },
  {
   "cell_type": "code",
   "execution_count": 36,
   "id": "69197499",
   "metadata": {},
   "outputs": [
    {
     "name": "stdout",
     "output_type": "stream",
     "text": [
      "{\"created_at\": \"Fri Mar 11 15:55:53 +0000 2022\", \"default_profile\": true, \"default_profile_image\": true, \"favourites_count\": 78, \"followers_count\": 1, \"friends_count\": 52, \"id\": 1502312329341546496, \"id_str\": \"1502312329341546496\", \"name\": \"Giova0303\", \"profile_background_color\": \"F5F8FA\", \"profile_image_url\": \"http://abs.twimg.com/sticky/default_profile_images/default_profile_normal.png\", \"profile_image_url_https\": \"https://abs.twimg.com/sticky/default_profile_images/default_profile_normal.png\", \"profile_link_color\": \"1DA1F2\", \"profile_sidebar_border_color\": \"C0DEED\", \"profile_sidebar_fill_color\": \"DDEEF6\", \"profile_text_color\": \"333333\", \"profile_use_background_image\": true, \"screen_name\": \"Giova03031\", \"status\": {\"created_at\": \"Fri Apr 22 14:07:27 +0000 2022\", \"id\": 1517505363733630980, \"id_str\": \"1517505363733630980\", \"in_reply_to_screen_name\": \"swimmer_okamoto\", \"in_reply_to_status_id\": 1511320456887820297, \"in_reply_to_user_id\": 1172875629508775936, \"lang\": \"und\", \"source\": \"<a href=\\\"http://twitter.com/download/iphone\\\" rel=\\\"nofollow\\\">Twitter for iPhone</a>\", \"text\": \"@swimmer_okamoto \\ud83d\\ude4c\\ud83d\\ude4c\\ud83d\\ude4c\"}, \"statuses_count\": 4, \"withheld_in_countries\": []}\n"
     ]
    }
   ],
   "source": [
    "print(api.VerifyCredentials())\n",
    "\n",
    "# (And we are in!)"
   ]
  },
  {
   "cell_type": "code",
   "execution_count": 37,
   "id": "0bc489c9",
   "metadata": {},
   "outputs": [
    {
     "name": "stdout",
     "output_type": "stream",
     "text": [
      "[]\n"
     ]
    }
   ],
   "source": [
    "# Confirming no tweets to date\n",
    "statuses = api.GetUserTimeline(screen_name = 'Giova0303')\n",
    "print([s.text for s in statuses])"
   ]
  },
  {
   "cell_type": "code",
   "execution_count": 38,
   "id": "420e0250",
   "metadata": {},
   "outputs": [
    {
     "data": {
      "text/plain": [
       "[Status(ID=1527368405396795405, ScreenName=POTUS, Created=Thu May 19 19:19:39 +0000 2022, Text='I applaud Congress for passing the security package I requested and for sending a clear bipartisan message to the w… https://t.co/PDJLYHjCpA'),\n",
       " Status(ID=1527595890793254913, ScreenName=TulsiGabbard, Created=Fri May 20 10:23:36 +0000 2022, Text='As the American people struggle with rising gas prices &amp; inflation, the permanent Washington establishment rushed t… https://t.co/Exvd5VJgEt'),\n",
       " Status(ID=1527791322249187328, ScreenName=GianbattistaMa5, Created=Fri May 20 23:20:10 +0000 2022, Text='RT @KyivIndependent: ⚡️ Zelensky: Western partners involved in evacuation of Mariupol defenders.\\n\\nAlthough the details were not disclosed,…'),\n",
       " Status(ID=1527791321313845249, ScreenName=plutograndson, Created=Fri May 20 23:20:10 +0000 2022, Text='RT @OhTeeHoe: How tf is Ukraine in the World Cup I thought them niggas was busy'),\n",
       " Status(ID=1527791320793698304, ScreenName=LidmilaRobert, Created=Fri May 20 23:20:10 +0000 2022, Text='@ArmyMarine1 @SmartTaipei @SIAAmerica Fun fact: the US imports 90% of semiconductor grade neon from Ukraine.'),\n",
       " Status(ID=1527791320651255808, ScreenName=Navsteva, Created=Fri May 20 23:20:10 +0000 2022, Text='New York Times: \"A decisive Ukrainian military victory over Russia, which would see Ukraine reclaim all of the terr… https://t.co/Dpd6o56MWT'),\n",
       " Status(ID=1527791320374312960, ScreenName=Tindomion, Created=Fri May 20 23:20:10 +0000 2022, Text='RT @ChrisO_wiki: In March 2022, Ukraine reported that stored tanks transported to a Russian maintenance base near the Ukrainian border arri…'),\n",
       " Status(ID=1527791320223432707, ScreenName=juliekphansen, Created=Fri May 20 23:20:10 +0000 2022, Text='RT @KingsleyCortes: Senate Republicans who voted to send 40,000,000,000 US taxpayer dollars to Ukraine:  \\n\\nTed Cruz\\nLindsey Graham \\nMarco R…'),\n",
       " Status(ID=1527791319149473792, ScreenName=dunnclan, Created=Fri May 20 23:20:10 +0000 2022, Text='RT @AVindman: This is not a military target. The Russian state deliberately targeted this house of culture. This is a morale target to puni…'),\n",
       " Status(ID=1527791318742835202, ScreenName=Giovann35084111, Created=Fri May 20 23:20:10 +0000 2022, Text='@Gerashchenko_en Lies until the end. Show me evidence that a single Ukrainian was \"evacuated\" to Ukraine controlled… https://t.co/KR0mohEYSM')]"
      ]
     },
     "execution_count": 38,
     "metadata": {},
     "output_type": "execute_result"
    }
   ],
   "source": [
    "# Here is my search for Ukraine (50 most recent posts since May 16, 2022)\n",
    "api.GetSearch(term = 'Ukraine', since = 2022-5-16, count = 10)"
   ]
  },
  {
   "cell_type": "code",
   "execution_count": null,
   "id": "6782f69c",
   "metadata": {},
   "outputs": [],
   "source": []
  }
 ],
 "metadata": {
  "kernelspec": {
   "display_name": "Python 3 (ipykernel)",
   "language": "python",
   "name": "python3"
  },
  "language_info": {
   "codemirror_mode": {
    "name": "ipython",
    "version": 3
   },
   "file_extension": ".py",
   "mimetype": "text/x-python",
   "name": "python",
   "nbconvert_exporter": "python",
   "pygments_lexer": "ipython3",
   "version": "3.9.12"
  }
 },
 "nbformat": 4,
 "nbformat_minor": 5
}
