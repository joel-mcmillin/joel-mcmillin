{
 "cells": [
  {
   "cell_type": "markdown",
   "id": "8ed0053b",
   "metadata": {},
   "source": [
    "#### Exploratory Data Analysis on AirBnb Data from 2016 - 2021\n",
    "\n",
    "This was an early Data Science project from DSC530, and it involves Exploratory Data Analysis (EDA).\n",
    "\n",
    "I used AirBnb data from NYC that included pricing, rental property type, number of reviews, reviews per month, and date of last review to look for any trends in the data. This was of interest to me because of the timeframe for the data, which has early AirBnb data up through the pandemic that started in early 2020. The data runs through late 2021, when vaccine availability led to increased travel and use of AirBnb properties. \n",
    "\n",
    "The EDA used here involves exploring and visualizing relationships between the different data points. \n",
    "\n",
    "For this, I mostly relied on thinkplot and thinkstats2. I used histographs and scatter plots to visually explore the data. I used Probability Mass Function (PMF) to investigate whether the variable relationships were random or not. Pearsons and Spearmans Correlation coeffients were used to investigate the strength of any correlations. I also used single (Least Squares) and multiple regression analysis (OLS Regression), also to investigate the strength of correlation between variables in the data. \n",
    "\n",
    "Notable findings were that there appears to be an increase in AirBnb use/spending/reviews toward the end of 2021. This is noticeable because the increase shows more use/spending/reviews after the pandemic than at any point before the pandemic. This prompts the question of Why that may be. Is this consumers wanted to travel as soon as restrictions started to lift? Were prices lowered in hopes of greater demand? Was the reverse true? These questions weren't investigated as part of this EDA project, but would make a great follow-up, especially now that the AirBnb market is cooling.\n"
   ]
  },
  {
   "cell_type": "code",
   "execution_count": 103,
   "id": "4221a2b2",
   "metadata": {
    "collapsed": true
   },
   "outputs": [],
   "source": [
    "from __future__ import print_function, division\n",
    "%matplotlib inline\n",
    "import numpy as np\n",
    "import csv\n",
    "import pandas as pd\n",
    "import thinkplot\n",
    "import thinkstats2\n",
    "from thinkstats2 import Mean, MeanVar, Var, Std, Cov\n",
    "import statsmodels.formula.api as smf"
   ]
  },
  {
   "cell_type": "code",
   "execution_count": 2,
   "id": "4617b670",
   "metadata": {},
   "outputs": [
    {
     "name": "stderr",
     "output_type": "stream",
     "text": [
      "C:\\Users\\joelm\\AppData\\Local\\Temp\\ipykernel_23296\\1411390149.py:1: DtypeWarning: Columns (4) have mixed types. Specify dtype option on import or set low_memory=False.\n",
      "  dfnyc1 = pd.read_csv('nyc2.csv')\n"
     ]
    }
   ],
   "source": [
    "dfnyc1 = pd.read_csv('nyc2.csv')"
   ]
  },
  {
   "cell_type": "code",
   "execution_count": 4,
   "id": "d949ae3f",
   "metadata": {},
   "outputs": [],
   "source": [
    "rmtp = dfnyc1"
   ]
  },
  {
   "cell_type": "code",
   "execution_count": 6,
   "id": "41d80a6e",
   "metadata": {},
   "outputs": [
    {
     "data": {
      "image/png": "[encoded data removed]",
      "text/plain": [
       "<Figure size 432x288 with 1 Axes>"
      ]
     },
     "metadata": {
      "needs_background": "light"
     },
     "output_type": "display_data"
    }
   ],
   "source": [
    "# Room Type\n",
    "hist = thinkstats2.Hist(dfnyc1.room_type, label='Room Type')\n",
    "thinkplot.Hist(hist)\n",
    "thinkplot.Config(xlabel='NYC - Airbnb', ylabel='Count')\n",
    "\n",
    "\n",
    "# The Entire Home rental type is most popular\n",
    "# The data appears skewed to the right, this is due to the arbitrary order in which I\n",
    "# assigned the different room types to numeric data where:\n",
    "# 1 = entire home/apartment\n",
    "# 2 = private room within a residence\n",
    "# 3 = hotel room\n",
    "# 4 = shared room\n"
   ]
  },
  {
   "cell_type": "code",
   "execution_count": 13,
   "id": "fe640632",
   "metadata": {},
   "outputs": [
    {
     "name": "stdout",
     "output_type": "stream",
     "text": [
      "The Mean is: 1.487286072725911 \n",
      "The Variance is: 0.3521621459699705 \n",
      "The Standard Deviation is: 0.5934325117230859\n"
     ]
    }
   ],
   "source": [
    "#Stats for room type\n",
    "mean = rmtp.room_type.mean()\n",
    "var = rmtp.room_type.var()\n",
    "std = rmtp.room_type.std()\n",
    "\n",
    "print('The Mean is:', mean, \n",
    "      '\\nThe Variance is:', var, \n",
    "      '\\nThe Standard Deviation is:',std)"
   ]
  },
  {
   "cell_type": "code",
   "execution_count": 8,
   "id": "94faf474",
   "metadata": {},
   "outputs": [
    {
     "data": {
      "text/plain": [
       "[(4000.0, 2),\n",
       " (3900.0, 1),\n",
       " (3557.0, 1),\n",
       " (3396.0, 1),\n",
       " (3000.0, 2),\n",
       " (2614.0, 2),\n",
       " (2536.0, 1),\n",
       " (2500.0, 6),\n",
       " (2400.0, 1),\n",
       " (2299.0, 1)]"
      ]
     },
     "execution_count": 8,
     "metadata": {},
     "output_type": "execute_result"
    },
    {
     "data": {
      "image/png": "[encoded data removed]",
      "text/plain": [
       "<Figure size 432x288 with 1 Axes>"
      ]
     },
     "metadata": {
      "needs_background": "light"
     },
     "output_type": "display_data"
    }
   ],
   "source": [
    "# Price\n",
    "hist = thinkstats2.Hist(rmtp.price, label='Price')\n",
    "thinkplot.Hist(hist)\n",
    "thinkplot.Config(xlabel='NYC - Airbnb', ylabel='Count')\n",
    "# Similar to the number of reviews, the pricing is also skewed toward lower \n",
    "# pricing with a higher count\n",
    "hist.Largest()"
   ]
  },
  {
   "cell_type": "code",
   "execution_count": 16,
   "id": "2a2fc8e2",
   "metadata": {},
   "outputs": [
    {
     "name": "stdout",
     "output_type": "stream",
     "text": [
      "The Mean is: 151.60202973448676 \n",
      "The Variance is: 28301.967784061133 \n",
      "The Standard Deviation is: 168.23188694198592\n"
     ]
    }
   ],
   "source": [
    "# Stats for price\n",
    "mean = rmtp.price.mean()\n",
    "var = rmtp.price.var()\n",
    "std = rmtp.price.std()\n",
    "\n",
    "print('The Mean is:', mean, \n",
    "      '\\nThe Variance is:', var, \n",
    "      '\\nThe Standard Deviation is:',std)"
   ]
  },
  {
   "cell_type": "code",
   "execution_count": 14,
   "id": "6ee7fa9e",
   "metadata": {},
   "outputs": [
    {
     "data": {
      "text/plain": [
       "[(1006.0, 1),\n",
       " (735.0, 1),\n",
       " (655.0, 1),\n",
       " (651.0, 1),\n",
       " (630.0, 1),\n",
       " (586.0, 1),\n",
       " (585.0, 2),\n",
       " (581.0, 1),\n",
       " (575.0, 1),\n",
       " (574.0, 1)]"
      ]
     },
     "execution_count": 14,
     "metadata": {},
     "output_type": "execute_result"
    },
    {
     "data": {
      "image/png": "[encoded data removed]",
      "text/plain": [
       "<Figure size 432x288 with 1 Axes>"
      ]
     },
     "metadata": {
      "needs_background": "light"
     },
     "output_type": "display_data"
    }
   ],
   "source": [
    "# Number of reviews\n",
    "hist = thinkstats2.Hist(rmtp.num_revs, label='# Reviews')\n",
    "thinkplot.Hist(hist)\n",
    "thinkplot.Config(xlabel='NYC - Airbnb', ylabel='Count')\n",
    "hist.Largest()"
   ]
  },
  {
   "cell_type": "code",
   "execution_count": 17,
   "id": "66ced237",
   "metadata": {},
   "outputs": [
    {
     "name": "stdout",
     "output_type": "stream",
     "text": [
      "The Mean is: 31.5894094296521 \n",
      "The Variance is: 3101.786243913857 \n",
      "The Standard Deviation is: 55.6936822621189\n"
     ]
    }
   ],
   "source": [
    "# Stats for number of reviews\n",
    "mean = rmtp.num_revs.mean()\n",
    "var = rmtp.num_revs.var()\n",
    "std = rmtp.num_revs.std()\n",
    "\n",
    "print('The Mean is:', mean, \n",
    "      '\\nThe Variance is:', var, \n",
    "      '\\nThe Standard Deviation is:',std)"
   ]
  },
  {
   "cell_type": "code",
   "execution_count": 18,
   "id": "87d616bc",
   "metadata": {},
   "outputs": [
    {
     "data": {
      "image/png": "[encoded data removed]",
      "text/plain": [
       "<Figure size 432x288 with 1 Axes>"
      ]
     },
     "metadata": {
      "needs_background": "light"
     },
     "output_type": "display_data"
    }
   ],
   "source": [
    "# Date of last review\n",
    "hist = thinkstats2.Hist(rmtp.last_review, label='Last Review')\n",
    "thinkplot.Hist(hist)\n",
    "thinkplot.Config(xlabel='NYC - Airbnb', ylabel='Count')\n",
    "# Shows 'entire home' rentals over time, from january 2016-september 2021 in NYC. \n",
    "# Count by month"
   ]
  },
  {
   "cell_type": "code",
   "execution_count": 21,
   "id": "eefb8542",
   "metadata": {},
   "outputs": [
    {
     "data": {
      "image/png": "[encoded data removed]",
      "text/plain": [
       "<Figure size 432x288 with 1 Axes>"
      ]
     },
     "metadata": {
      "needs_background": "light"
     },
     "output_type": "display_data"
    }
   ],
   "source": [
    "# Reviews per month\n",
    "hist = thinkstats2.Hist(rmtp.reviews_per_month, label='Reviews Per Month')\n",
    "thinkplot.Hist(hist)\n",
    "thinkplot.Config(xlabel='NYC - Airbnb', ylabel='Count')\n",
    "# I am not discarding outliers for this b/c even though only 3 properties of any\n",
    "# type have more than 150 reviews in a month average, they're notable for the fact \n",
    "# that they are from August and September 2021"
   ]
  },
  {
   "cell_type": "code",
   "execution_count": 22,
   "id": "cff3a496",
   "metadata": {},
   "outputs": [
    {
     "name": "stdout",
     "output_type": "stream",
     "text": [
      "The Mean is: 1.5001063550912195 \n",
      "The Variance is: 16.881598992508266 \n",
      "The Standard Deviation is: 4.108722306570288\n"
     ]
    }
   ],
   "source": [
    "# Stats for reviews per month\n",
    "# Stats for number of reviews\n",
    "mean = rmtp.reviews_per_month.mean()\n",
    "var = rmtp.reviews_per_month.var()\n",
    "std = rmtp.reviews_per_month.std()\n",
    "\n",
    "print('The Mean is:', mean, \n",
    "      '\\nThe Variance is:', var, \n",
    "      '\\nThe Standard Deviation is:',std)"
   ]
  },
  {
   "cell_type": "code",
   "execution_count": 23,
   "id": "735e0dca",
   "metadata": {},
   "outputs": [
    {
     "data": {
      "image/png": "[encoded data removed]",
      "text/plain": [
       "<Figure size 432x288 with 1 Axes>"
      ]
     },
     "metadata": {
      "needs_background": "light"
     },
     "output_type": "display_data"
    }
   ],
   "source": [
    "# Using Probability Mass Function (PMF) to compare 2 scenarios for one variable\n",
    "\n",
    "pmf = thinkstats2.Pmf(rmtp.price, label = 'Price')\n",
    "\n",
    "thinkplot.Pmf(pmf)\n",
    "thinkplot.Config(xlabel='Price', ylabel='PMF')"
   ]
  },
  {
   "cell_type": "code",
   "execution_count": 25,
   "id": "733a50d3",
   "metadata": {},
   "outputs": [
    {
     "data": {
      "image/png": "[encoded data removed]",
      "text/plain": [
       "<Figure size 432x288 with 1 Axes>"
      ]
     },
     "metadata": {
      "needs_background": "light"
     },
     "output_type": "display_data"
    }
   ],
   "source": [
    "# For entire home rental\n",
    "rmtp2 = dfnyc1[dfnyc1.room_type == 1]\n",
    "pmf2 = thinkstats2.Pmf(rmtp2.price, label='Price')\n",
    "\n",
    "thinkplot.Pmf(pmf2)\n",
    "thinkplot.Config(xlabel='NYC - Entire Home', ylabel='PMF')"
   ]
  },
  {
   "cell_type": "code",
   "execution_count": 26,
   "id": "05006f9a",
   "metadata": {},
   "outputs": [
    {
     "data": {
      "image/png": "[encoded data removed]",
      "text/plain": [
       "<Figure size 432x288 with 1 Axes>"
      ]
     },
     "metadata": {
      "needs_background": "light"
     },
     "output_type": "display_data"
    }
   ],
   "source": [
    "# For private room within a residence\n",
    "rmtp3 = dfnyc1[dfnyc1.room_type == 2]\n",
    "pmf3 = thinkstats2.Pmf(rmtp3.price, label='Price')\n",
    "\n",
    "thinkplot.Pmf(pmf3)\n",
    "thinkplot.Config(xlabel='NYC - Private Room', ylabel='PMF')"
   ]
  },
  {
   "cell_type": "code",
   "execution_count": 27,
   "id": "c3a93325",
   "metadata": {},
   "outputs": [
    {
     "data": {
      "image/png": "[encoded data removed]",
      "text/plain": [
       "<Figure size 864x432 with 1 Axes>"
      ]
     },
     "metadata": {
      "needs_background": "light"
     },
     "output_type": "display_data"
    }
   ],
   "source": [
    "thinkplot.PrePlot(2, cols = 2)\n",
    "thinkplot.Hist(pmf, align = 'right')\n",
    "thinkplot.Hist(pmf2, align = 'left')\n",
    "thinkplot.Config(xlabel = 'Price', \n",
    "                 ylabel = 'Probability',\n",
    "                 axis = [0, 350, 0, .06])"
   ]
  },
  {
   "cell_type": "code",
   "execution_count": 28,
   "id": "1bfbfb8a",
   "metadata": {},
   "outputs": [
    {
     "data": {
      "image/png": "[encoded data removed]",
      "text/plain": [
       "<Figure size 864x432 with 1 Axes>"
      ]
     },
     "metadata": {
      "needs_background": "light"
     },
     "output_type": "display_data"
    }
   ],
   "source": [
    "thinkplot.PrePlot(2, cols = 2)\n",
    "thinkplot.Hist(pmf, align = 'right')\n",
    "thinkplot.Hist(pmf2, align = 'left')\n",
    "thinkplot.Config(xlabel = 'Price', \n",
    "                 ylabel = 'Probability',\n",
    "                 axis = [0, 275, 0, .06])"
   ]
  },
  {
   "cell_type": "code",
   "execution_count": 29,
   "id": "30461ca6",
   "metadata": {},
   "outputs": [
    {
     "data": {
      "text/plain": [
       "0.9759577575553309"
      ]
     },
     "execution_count": 29,
     "metadata": {},
     "output_type": "execute_result"
    },
    {
     "data": {
      "image/png": "[encoded data removed]",
      "text/plain": [
       "<Figure size 432x288 with 1 Axes>"
      ]
     },
     "metadata": {
      "needs_background": "light"
     },
     "output_type": "display_data"
    }
   ],
   "source": [
    "# Cumulative Distribution Function (CDF) for variables\n",
    "# Number of reviews\n",
    "cdf = thinkstats2.Cdf(rmtp.num_revs, label = 'Number of Reviews')\n",
    "thinkplot.Cdf(cdf)\n",
    "thinkplot.Config(xlabel = 'Number of Reviews', \n",
    "                 ylabel = 'CDF', loc = 'lower right')\n",
    "\n",
    "cdf.Prob(200)\n",
    "\n",
    "# 98% probability of having 200 or fewer reviews"
   ]
  },
  {
   "cell_type": "code",
   "execution_count": 30,
   "id": "1b5efd2b",
   "metadata": {},
   "outputs": [
    {
     "data": {
      "text/plain": [
       "0.9537879638991874"
      ]
     },
     "execution_count": 30,
     "metadata": {},
     "output_type": "execute_result"
    }
   ],
   "source": [
    "cdf.Prob(150)\n",
    "\n",
    "# 95% probability of having 150 or fewer reviews, and so on..."
   ]
  },
  {
   "cell_type": "code",
   "execution_count": 31,
   "id": "c0cfaeb8",
   "metadata": {},
   "outputs": [
    {
     "data": {
      "text/plain": [
       "0.8120435906077969"
      ]
     },
     "execution_count": 31,
     "metadata": {},
     "output_type": "execute_result"
    }
   ],
   "source": [
    "cdf.Prob(50)"
   ]
  },
  {
   "cell_type": "code",
   "execution_count": 32,
   "id": "21ed829e",
   "metadata": {},
   "outputs": [
    {
     "data": {
      "text/plain": [
       "0.7344118638355241"
      ]
     },
     "execution_count": 32,
     "metadata": {},
     "output_type": "execute_result"
    }
   ],
   "source": [
    "cdf.Prob(30)\n",
    "\n",
    "# The above shows the probability that one will have x-number of reviews or fewer. "
   ]
  },
  {
   "cell_type": "code",
   "execution_count": 33,
   "id": "34b45245",
   "metadata": {},
   "outputs": [
    {
     "data": {
      "text/plain": [
       "0.8249634872486238"
      ]
     },
     "execution_count": 33,
     "metadata": {},
     "output_type": "execute_result"
    },
    {
     "data": {
      "image/png": "[encoded data removed]",
      "text/plain": [
       "<Figure size 432x288 with 1 Axes>"
      ]
     },
     "metadata": {
      "needs_background": "light"
     },
     "output_type": "display_data"
    }
   ],
   "source": [
    "# Price\n",
    "cdf2 = thinkstats2.Cdf(rmtp.price, label = 'Price')\n",
    "thinkplot.Cdf(cdf2)\n",
    "thinkplot.Config(xlabel = 'Price', \n",
    "                 ylabel = 'CDF', loc = 'lower right')\n",
    "\n",
    "cdf2.Prob(200)\n",
    "\n",
    "# 82% probability of price less than $200"
   ]
  },
  {
   "cell_type": "code",
   "execution_count": 34,
   "id": "9b63225d",
   "metadata": {},
   "outputs": [
    {
     "data": {
      "text/plain": [
       "0.4707710744111149"
      ]
     },
     "execution_count": 34,
     "metadata": {},
     "output_type": "execute_result"
    }
   ],
   "source": [
    "cdf2.Prob(100)\n",
    "\n",
    "# 47% probability of price less than $100"
   ]
  },
  {
   "cell_type": "code",
   "execution_count": 35,
   "id": "4c09e32b",
   "metadata": {},
   "outputs": [
    {
     "data": {
      "text/plain": [
       "0.9575703104520091"
      ]
     },
     "execution_count": 35,
     "metadata": {},
     "output_type": "execute_result"
    }
   ],
   "source": [
    "cdf2.Prob(400)\n",
    "\n",
    "# The above shows information on price ranges in NYC Airbnbs. There is a 47% probability that\n",
    "# the price will be below $100/night, while at $400/night there's a 95% probability of finding\n",
    "# an Airbnb property (of any type)."
   ]
  },
  {
   "cell_type": "code",
   "execution_count": 36,
   "id": "4f959886",
   "metadata": {},
   "outputs": [
    {
     "data": {
      "image/png": "[encoded data removed]",
      "text/plain": [
       "<Figure size 432x288 with 1 Axes>"
      ]
     },
     "metadata": {
      "needs_background": "light"
     },
     "output_type": "display_data"
    },
    {
     "data": {
      "text/plain": [
       "<Figure size 576x432 with 0 Axes>"
      ]
     },
     "metadata": {},
     "output_type": "display_data"
    }
   ],
   "source": [
    "# This comparison shows that private room pricing is usually lower than pricing for entire residences\n",
    "entire_cdf = thinkstats2.Cdf(rmtp2.price, label = 'Entire Home')\n",
    "prv_rm_cdf = thinkstats2.Cdf(rmtp3.price, label = 'Private Room')\n",
    "\n",
    "thinkplot.PrePlot(2)\n",
    "thinkplot.Cdfs([entire_cdf, prv_rm_cdf])\n",
    "thinkplot.Show(xlabel = 'price', ylabel = 'CDF')"
   ]
  },
  {
   "cell_type": "code",
   "execution_count": 37,
   "id": "2e0ed790",
   "metadata": {},
   "outputs": [
    {
     "name": "stderr",
     "output_type": "stream",
     "text": [
      "C:\\Users\\joelm\\AppData\\Local\\Temp\\ipykernel_23296\\1704096483.py:4: DtypeWarning: Columns (4) have mixed types. Specify dtype option on import or set low_memory=False.\n",
      "  dfnyc1 = pd.read_csv('nyc2.csv')\n"
     ]
    }
   ],
   "source": [
    "# Plotting 1 analytical distribution with analysis of application to my dataset\n",
    "import scipy.stats\n",
    "\n",
    "dfnyc1 = pd.read_csv('nyc2.csv')\n",
    "prices = dfnyc1.price.dropna()"
   ]
  },
  {
   "cell_type": "code",
   "execution_count": 39,
   "id": "8b68b580",
   "metadata": {},
   "outputs": [
    {
     "name": "stdout",
     "output_type": "stream",
     "text": [
      "Mean: 141.0777255531354 \n",
      "Variance: 11816.853754680153\n"
     ]
    }
   ],
   "source": [
    "# Normal distribution\n",
    "mu, var = thinkstats2.TrimmedMeanVar(prices, p=0.01)\n",
    "print('Mean:', mu, '\\nVariance:',var)"
   ]
  },
  {
   "cell_type": "code",
   "execution_count": 40,
   "id": "305192e6",
   "metadata": {},
   "outputs": [
    {
     "name": "stdout",
     "output_type": "stream",
     "text": [
      "Sigma: 108.70535292560415\n"
     ]
    }
   ],
   "source": [
    "# Sigma\n",
    "sigma = np.sqrt(var)\n",
    "print('Sigma:', sigma)"
   ]
  },
  {
   "cell_type": "code",
   "execution_count": 45,
   "id": "0e5c085f",
   "metadata": {},
   "outputs": [
    {
     "data": {
      "image/png": "[encoded data removed]",
      "text/plain": [
       "<Figure size 432x288 with 1 Axes>"
      ]
     },
     "metadata": {
      "needs_background": "light"
     },
     "output_type": "display_data"
    }
   ],
   "source": [
    "xs, ps = thinkstats2.RenderNormalCdf(mu, sigma, low=0, high=12.5)\n",
    "thinkplot.Plot(xs, ps, label='model', color='0.6')\n",
    "\n",
    "cdf = thinkstats2.Cdf(prices, label='data')\n",
    "thinkplot.PrePlot(1)\n",
    "thinkplot.Cdf(cdf) \n",
    "thinkplot.Config(title='Prices',\n",
    "                 xlabel='Prices',\n",
    "                 ylabel='CDF',\n",
    "                 loc = 'lower right')"
   ]
  },
  {
   "cell_type": "code",
   "execution_count": 47,
   "id": "26a4c87e",
   "metadata": {},
   "outputs": [
    {
     "data": {
      "image/png": "[encoded data removed]",
      "text/plain": [
       "<Figure size 432x288 with 1 Axes>"
      ]
     },
     "metadata": {
      "needs_background": "light"
     },
     "output_type": "display_data"
    }
   ],
   "source": [
    "# Normal Probability Plot below \n",
    "mean, var = thinkstats2.TrimmedMeanVar(prices, p = 0.01)\n",
    "std = np.sqrt(var)\n",
    "\n",
    "xs = [-5, 5]\n",
    "fxs, fys = thinkstats2.FitLine(xs, mean, std)\n",
    "thinkplot.Plot(fxs, fys, linewidth = 4, color = '0.8')\n",
    "\n",
    "xs, ys = thinkstats2.NormalProbability(prices)\n",
    "thinkplot.Plot(xs, ys, label = 'All Property Types')\n",
    "thinkplot.Config(title = 'Normal Probability Plot', \n",
    "                 xlabel = 'Standard Deviation from Mean',\n",
    "                 ylabel = 'Prices')"
   ]
  },
  {
   "cell_type": "code",
   "execution_count": 58,
   "id": "1d2a6718",
   "metadata": {},
   "outputs": [
    {
     "name": "stderr",
     "output_type": "stream",
     "text": [
      "C:\\Users\\joelm\\AppData\\Local\\Temp\\ipykernel_23296\\1126741024.py:3: DtypeWarning: Columns (4) have mixed types. Specify dtype option on import or set low_memory=False.\n",
      "  dfnyc1 = pd.read_csv('nyc2.csv')\n"
     ]
    },
    {
     "name": "stdout",
     "output_type": "stream",
     "text": [
      "n, mean, std 26703 141.0777255531354 108.70535292560415\n"
     ]
    },
    {
     "data": {
      "image/png": "[encoded data removed]",
      "text/plain": [
       "<Figure size 432x288 with 1 Axes>"
      ]
     },
     "metadata": {
      "needs_background": "light"
     },
     "output_type": "display_data"
    }
   ],
   "source": [
    "# Lognormal Model\n",
    "\n",
    "dfnyc1 = pd.read_csv('nyc2.csv')\n",
    "price = dfnyc1.price.dropna()\n",
    "\n",
    "def MakeNormalModel(price):\n",
    "    ''' Plots a CDF with a Normal model '''\n",
    "    \n",
    "    cdf = thinkstats2.Cdf(price, label='Price')\n",
    "\n",
    "    mean, var = thinkstats2.TrimmedMeanVar(price)\n",
    "    std = np.sqrt(var)\n",
    "    print('n, mean, std', len(price), mean, std)\n",
    "\n",
    "    xmin = mean - 4 * std\n",
    "    xmax = mean + 4 * std\n",
    "\n",
    "    xs, ps = thinkstats2.RenderNormalCdf(mean, std, xmin, xmax)\n",
    "    thinkplot.Plot(xs, ps, label='model', linewidth=4, color='0.8')\n",
    "    thinkplot.Cdf(cdf)\n",
    "\n",
    "MakeNormalModel(price)\n",
    "thinkplot.Config(title='Price', xlabel='Prices',\n",
    "                 ylabel='CDF', loc='lower right')"
   ]
  },
  {
   "cell_type": "code",
   "execution_count": 56,
   "id": "b388eef5",
   "metadata": {},
   "outputs": [
    {
     "name": "stdout",
     "output_type": "stream",
     "text": [
      "n, mean, std 26703 2.0537340181736554 0.2798442611404363\n"
     ]
    },
    {
     "name": "stderr",
     "output_type": "stream",
     "text": [
      "C:\\Users\\joelm\\anaconda3\\lib\\site-packages\\pandas\\core\\arraylike.py:397: RuntimeWarning: divide by zero encountered in log10\n",
      "  result = getattr(ufunc, method)(*inputs, **kwargs)\n"
     ]
    },
    {
     "data": {
      "image/png": "[encoded data removed]",
      "text/plain": [
       "<Figure size 432x288 with 1 Axes>"
      ]
     },
     "metadata": {
      "needs_background": "light"
     },
     "output_type": "display_data"
    }
   ],
   "source": [
    "# Lognormal price\n",
    "log_price = np.log10(price)\n",
    "MakeNormalModel(log_price)\n",
    "thinkplot.Config(title='Log Scale Prices', xlabel='Prices',\n",
    "                 ylabel='CDF', loc='upper right')"
   ]
  },
  {
   "cell_type": "code",
   "execution_count": 57,
   "id": "eb3a4a11",
   "metadata": {},
   "outputs": [
    {
     "data": {
      "image/png": "[encoded data removed]",
      "text/plain": [
       "<Figure size 432x288 with 1 Axes>"
      ]
     },
     "metadata": {
      "needs_background": "light"
     },
     "output_type": "display_data"
    }
   ],
   "source": [
    "# Normal probability plot \n",
    "\n",
    "def MakeNormalPlot(price):\n",
    "    # Generates a normal probability plot of birth weights \n",
    "    \n",
    "    mean, var = thinkstats2.TrimmedMeanVar(price, p=0.01)\n",
    "    std = np.sqrt(var)\n",
    "\n",
    "    xs = [-5, 5]\n",
    "    xs, ys = thinkstats2.FitLine(xs, mean, std)\n",
    "    thinkplot.Plot(xs, ys, color='0.8', label='model')\n",
    "\n",
    "    xs, ys = thinkstats2.NormalProbability(price)\n",
    "    thinkplot.Plot(xs, ys, label='prices')\n",
    "\n",
    "MakeNormalPlot(price)\n",
    "thinkplot.Config(title='Normal Plot Prices', xlabel='Prices',\n",
    "                 ylabel='CDF', loc='lower right')"
   ]
  },
  {
   "cell_type": "code",
   "execution_count": 59,
   "id": "cf8cb17a",
   "metadata": {},
   "outputs": [
    {
     "data": {
      "image/png": "[encoded data removed]",
      "text/plain": [
       "<Figure size 432x288 with 1 Axes>"
      ]
     },
     "metadata": {
      "needs_background": "light"
     },
     "output_type": "display_data"
    }
   ],
   "source": [
    "# Lognormal probability plot\n",
    "MakeNormalPlot(log_price)\n",
    "thinkplot.Config(title = 'Lognormal Prices',\n",
    "                 xlabel = 'Prices',\n",
    "                 ylabel = 'CDF', \n",
    "                 loc = 'lower right')"
   ]
  },
  {
   "cell_type": "code",
   "execution_count": 60,
   "id": "3e1fabf1",
   "metadata": {},
   "outputs": [
    {
     "data": {
      "image/png": "[encoded data removed]",
      "text/plain": [
       "<Figure size 432x288 with 1 Axes>"
      ]
     },
     "metadata": {
      "needs_background": "light"
     },
     "output_type": "display_data"
    }
   ],
   "source": [
    "# Scatter plot of price vs. last review date - Shows a significant\n",
    "# increase in Last Review dates toward late 2021\n",
    "df = pd.read_csv('nyc2.csv', parse_dates = [4], nrows = None)\n",
    "df.head()\n",
    "\n",
    "def SampleRows(df, nrows, replace = False):\n",
    "    indices = np.random.choice(df.index, nrows, replace = replace)\n",
    "    sample = df.loc[indices]\n",
    "    return sample\n",
    "\n",
    "sample = SampleRows(df, 5000)\n",
    "last_review, price = sample.last_review, sample.price\n",
    "\n",
    "thinkplot.Scatter(last_review, price, alpha=1)\n",
    "thinkplot.Config(xlabel='Last Review',\n",
    "                 ylabel='Price',\n",
    "                 legend=False)"
   ]
  },
  {
   "cell_type": "code",
   "execution_count": 61,
   "id": "6b83ce21",
   "metadata": {},
   "outputs": [
    {
     "data": {
      "image/png": "[encoded data removed]",
      "text/plain": [
       "<Figure size 432x288 with 1 Axes>"
      ]
     },
     "metadata": {
      "needs_background": "light"
     },
     "output_type": "display_data"
    }
   ],
   "source": [
    "# Increase in reviews per month toward late 2021 is noteworthy\n",
    "sample = SampleRows(df, 5000)\n",
    "last_review, reviews_per_month = sample.last_review, sample.reviews_per_month\n",
    "\n",
    "thinkplot.Scatter(last_review, reviews_per_month, alpha=1)\n",
    "thinkplot.Config(xlabel='Last Review',\n",
    "                 ylabel='Reviews per Month',\n",
    "                 legend=False)"
   ]
  },
  {
   "cell_type": "code",
   "execution_count": 62,
   "id": "0c5fdf60",
   "metadata": {},
   "outputs": [
    {
     "data": {
      "image/png": "[encoded data removed]",
      "text/plain": [
       "<Figure size 432x288 with 1 Axes>"
      ]
     },
     "metadata": {
      "needs_background": "light"
     },
     "output_type": "display_data"
    }
   ],
   "source": [
    "# Greater concentration of lower prices with more reviews per month,\n",
    "# though there are several outliers\n",
    "sample = SampleRows(df, 5000)\n",
    "price, reviews_per_month = sample.price, sample.reviews_per_month\n",
    "\n",
    "thinkplot.Scatter(price, reviews_per_month, alpha=1)\n",
    "thinkplot.Config(xlabel='Price',\n",
    "                 ylabel='Reviews per Month',\n",
    "                 legend=False)"
   ]
  },
  {
   "cell_type": "code",
   "execution_count": 63,
   "id": "955106f3",
   "metadata": {},
   "outputs": [
    {
     "data": {
      "image/png": "[encoded data removed]",
      "text/plain": [
       "<Figure size 432x288 with 1 Axes>"
      ]
     },
     "metadata": {
      "needs_background": "light"
     },
     "output_type": "display_data"
    }
   ],
   "source": [
    "# Price and number of reviews\n",
    "# In line with previous observations - lower prices garner more reviews\n",
    "# Opportunity to look into if this is due to broader accessibility to\n",
    "# lower priced rentals\n",
    "sample = SampleRows(df, 5000)\n",
    "price, num_revs = sample.price, sample.num_revs\n",
    "\n",
    "thinkplot.Scatter(price, num_revs, alpha=1)\n",
    "thinkplot.Config(xlabel='Price',\n",
    "                 ylabel='Number of Reviews',\n",
    "                 legend=False)"
   ]
  },
  {
   "cell_type": "code",
   "execution_count": 64,
   "id": "db796d98",
   "metadata": {},
   "outputs": [],
   "source": [
    "# Exploring covariance\n",
    "cleaned = df.dropna(subset = ['id', 'room_type', 'price', 'num_revs', 'last_review',\n",
    "                              'reviews_per_month'])\n",
    "\n",
    "def Cov(xs, ys, meanx=None, meany=None):\n",
    "    xs = np.asarray(xs)\n",
    "    ys = np.asarray(ys)\n",
    "\n",
    "    if meanx is None:\n",
    "        meanx = np.mean(xs)\n",
    "    if meany is None:\n",
    "        meany = np.mean(ys)\n",
    "\n",
    "    cov = np.dot(xs-meanx, ys-meany) / len(xs)\n",
    "    return cov"
   ]
  },
  {
   "cell_type": "code",
   "execution_count": 66,
   "id": "08d57bd5",
   "metadata": {},
   "outputs": [
    {
     "data": {
      "text/plain": [
       "-25.978077777970334"
      ]
     },
     "execution_count": 66,
     "metadata": {},
     "output_type": "execute_result"
    }
   ],
   "source": [
    "# Price - Room Type\n",
    "price, room_type = cleaned.price, cleaned.room_type\n",
    "Cov(price, room_type)"
   ]
  },
  {
   "cell_type": "code",
   "execution_count": 67,
   "id": "58ca4713",
   "metadata": {},
   "outputs": [
    {
     "data": {
      "text/plain": [
       "3.6769164601563125"
      ]
     },
     "execution_count": 67,
     "metadata": {},
     "output_type": "execute_result"
    }
   ],
   "source": [
    "# Price - Reviews per Month\n",
    "price, reviews_per_month = cleaned.price, cleaned.reviews_per_month\n",
    "Cov(price, reviews_per_month)"
   ]
  },
  {
   "cell_type": "code",
   "execution_count": 68,
   "id": "7bb997db",
   "metadata": {},
   "outputs": [
    {
     "data": {
      "text/plain": [
       "-360.40419975250296"
      ]
     },
     "execution_count": 68,
     "metadata": {},
     "output_type": "execute_result"
    }
   ],
   "source": [
    "# Price - Number of Reviews\n",
    "price, num_revs = cleaned.price, cleaned.num_revs\n",
    "Cov(price, num_revs)"
   ]
  },
  {
   "cell_type": "code",
   "execution_count": 69,
   "id": "5a46d3c7",
   "metadata": {},
   "outputs": [],
   "source": [
    "# Pearsons Correlation (PC)\n",
    "def Corr(xs, ys):\n",
    "    xs = np.asarray(xs)\n",
    "    ys = np.asarray(ys)\n",
    "\n",
    "    meanx, varx = thinkstats2.MeanVar(xs)\n",
    "    meany, vary = thinkstats2.MeanVar(ys)\n",
    "\n",
    "    corr = Cov(xs, ys, meanx, meany) / np.sqrt(varx * vary)\n",
    "    return corr"
   ]
  },
  {
   "cell_type": "code",
   "execution_count": 71,
   "id": "c6110390",
   "metadata": {},
   "outputs": [
    {
     "data": {
      "text/plain": [
       "-0.03846731363217718"
      ]
     },
     "execution_count": 71,
     "metadata": {},
     "output_type": "execute_result"
    }
   ],
   "source": [
    "# PC Price - Number of Reviews\n",
    "Corr(price, num_revs)"
   ]
  },
  {
   "cell_type": "code",
   "execution_count": 72,
   "id": "e4669746",
   "metadata": {},
   "outputs": [
    {
     "data": {
      "text/plain": [
       "array([[ 1.        , -0.03846731],\n",
       "       [-0.03846731,  1.        ]])"
      ]
     },
     "execution_count": 72,
     "metadata": {},
     "output_type": "execute_result"
    }
   ],
   "source": [
    "# Correlation coefficient\n",
    "np.corrcoef(price, num_revs)"
   ]
  },
  {
   "cell_type": "code",
   "execution_count": 73,
   "id": "bf28025c",
   "metadata": {},
   "outputs": [
    {
     "data": {
      "text/plain": [
       "0.005319672802547272"
      ]
     },
     "execution_count": 73,
     "metadata": {},
     "output_type": "execute_result"
    }
   ],
   "source": [
    "# PC Price - Reviews per Month\n",
    "Corr(price, reviews_per_month)"
   ]
  },
  {
   "cell_type": "code",
   "execution_count": 74,
   "id": "e5ad713a",
   "metadata": {},
   "outputs": [
    {
     "data": {
      "text/plain": [
       "array([[1.        , 0.00531967],\n",
       "       [0.00531967, 1.        ]])"
      ]
     },
     "execution_count": 74,
     "metadata": {},
     "output_type": "execute_result"
    }
   ],
   "source": [
    "# Correlation coefficient\n",
    "np.corrcoef(price, reviews_per_month)"
   ]
  },
  {
   "cell_type": "code",
   "execution_count": 77,
   "id": "287f27e9",
   "metadata": {},
   "outputs": [
    {
     "data": {
      "text/plain": [
       "-0.26022176903146954"
      ]
     },
     "execution_count": 77,
     "metadata": {},
     "output_type": "execute_result"
    }
   ],
   "source": [
    "# PC Price - Room Type\n",
    "Corr(price, room_type)"
   ]
  },
  {
   "cell_type": "code",
   "execution_count": 78,
   "id": "0701c8fd",
   "metadata": {},
   "outputs": [
    {
     "data": {
      "text/plain": [
       "array([[ 1.        , -0.26022177],\n",
       "       [-0.26022177,  1.        ]])"
      ]
     },
     "execution_count": 78,
     "metadata": {},
     "output_type": "execute_result"
    }
   ],
   "source": [
    "# Correlation coefficient\n",
    "np.corrcoef(price, room_type)"
   ]
  },
  {
   "cell_type": "code",
   "execution_count": 75,
   "id": "e64dc294",
   "metadata": {},
   "outputs": [],
   "source": [
    "# Spearmans Correlation (SC)\n",
    "def SpearmanCorr(xs, ys):\n",
    "    xranks = pd.Series(xs).rank()\n",
    "    yranks = pd.Series(ys).rank()\n",
    "    return Corr(xranks, yranks)"
   ]
  },
  {
   "cell_type": "code",
   "execution_count": 76,
   "id": "95c22827",
   "metadata": {},
   "outputs": [
    {
     "data": {
      "text/plain": [
       "0.02297214413990005"
      ]
     },
     "execution_count": 76,
     "metadata": {},
     "output_type": "execute_result"
    }
   ],
   "source": [
    "# SC Price - Number of Reviews\n",
    "SpearmanCorr(price, num_revs)"
   ]
  },
  {
   "cell_type": "code",
   "execution_count": 79,
   "id": "1253694c",
   "metadata": {},
   "outputs": [
    {
     "data": {
      "text/plain": [
       "0.08073285555771544"
      ]
     },
     "execution_count": 79,
     "metadata": {},
     "output_type": "execute_result"
    }
   ],
   "source": [
    "# SC Price - Reviews per Month\n",
    "SpearmanCorr(price, reviews_per_month)"
   ]
  },
  {
   "cell_type": "code",
   "execution_count": 80,
   "id": "98f82771",
   "metadata": {},
   "outputs": [
    {
     "data": {
      "text/plain": [
       "-0.6012547029198939"
      ]
     },
     "execution_count": 80,
     "metadata": {},
     "output_type": "execute_result"
    }
   ],
   "source": [
    "# SC Price - Room Type\n",
    "SpearmanCorr(price, room_type)"
   ]
  },
  {
   "cell_type": "code",
   "execution_count": 82,
   "id": "4be29e6d",
   "metadata": {},
   "outputs": [],
   "source": [
    "# Hypothesis Testing\n",
    "class HypothesisTest(object):\n",
    "\n",
    "    def __init__(self, data):\n",
    "        self.data = data\n",
    "        self.MakeModel()\n",
    "        self.actual = self.TestStatistic(data)\n",
    "\n",
    "    def PValue(self, iters=1000):\n",
    "        self.test_stats = [self.TestStatistic(self.RunModel()) \n",
    "                           for _ in range(iters)]\n",
    "\n",
    "        count = sum(1 for x in self.test_stats if x >= self.actual)\n",
    "        return count / iters\n",
    "\n",
    "    def TestStatistic(self, data):\n",
    "        raise UnimplementedMethodException()\n",
    "\n",
    "    def MakeModel(self):\n",
    "        pass\n",
    "\n",
    "    def RunModel(self):\n",
    "        raise UnimplementedMethodException()\n",
    "\n",
    "class CoinTest(HypothesisTest):\n",
    "\n",
    "    def TestStatistic(self, data):\n",
    "        heads, tails = data\n",
    "        test_stat = abs(heads - tails)\n",
    "        return test_stat\n",
    "\n",
    "    def RunModel(self):\n",
    "        heads, tails = self.data\n",
    "        n = heads + tails\n",
    "        sample = [random.choice('HT') for _ in range(n)]\n",
    "        hist = thinkstats2.Hist(sample)\n",
    "        data = hist['H'], hist['T']\n",
    "        return data\n",
    "\n",
    "class DiffMeansPermute(thinkstats2.HypothesisTest):\n",
    "\n",
    "    def TestStatistic(self, data):\n",
    "        group1, group2 = data\n",
    "        test_stat = abs(group1.mean() - group2.mean())\n",
    "        return test_stat\n",
    "\n",
    "    def MakeModel(self):\n",
    "        group1, group2 = self.data\n",
    "        self.n, self.m = len(group1), len(group2)\n",
    "        self.pool = np.hstack((group1, group2))\n",
    "\n",
    "    def RunModel(self):\n",
    "        np.random.shuffle(self.pool)\n",
    "        data = self.pool[:self.n], self.pool[self.n:]\n",
    "        return data\n",
    "  \n",
    "# Correlation testing\n",
    "class CorrelationPermute(thinkstats2.HypothesisTest):\n",
    "\n",
    "   def TestStatistic(self, data):\n",
    "       xs, ys = data\n",
    "       test_stat = abs(thinkstats2.Corr(xs, ys))\n",
    "       return test_stat\n",
    "\n",
    "   def RunModel(self):\n",
    "       xs, ys = self.data\n",
    "       xs = np.random.permutation(xs)\n",
    "       return xs, ys   "
   ]
  },
  {
   "cell_type": "code",
   "execution_count": 83,
   "id": "ec60469b",
   "metadata": {},
   "outputs": [
    {
     "data": {
      "text/html": [
       "<div>\n",
       "<style scoped>\n",
       "    .dataframe tbody tr th:only-of-type {\n",
       "        vertical-align: middle;\n",
       "    }\n",
       "\n",
       "    .dataframe tbody tr th {\n",
       "        vertical-align: top;\n",
       "    }\n",
       "\n",
       "    .dataframe thead th {\n",
       "        text-align: right;\n",
       "    }\n",
       "</style>\n",
       "<table border=\"1\" class=\"dataframe\">\n",
       "  <thead>\n",
       "    <tr style=\"text-align: right;\">\n",
       "      <th></th>\n",
       "      <th>id</th>\n",
       "      <th>room_type</th>\n",
       "      <th>price</th>\n",
       "      <th>num_revs</th>\n",
       "      <th>last_review</th>\n",
       "      <th>reviews_per_month</th>\n",
       "    </tr>\n",
       "  </thead>\n",
       "  <tbody>\n",
       "    <tr>\n",
       "      <th>0</th>\n",
       "      <td>2595.0</td>\n",
       "      <td>1.0</td>\n",
       "      <td>150.0</td>\n",
       "      <td>48.0</td>\n",
       "      <td>43770.0</td>\n",
       "      <td>0.33</td>\n",
       "    </tr>\n",
       "    <tr>\n",
       "      <th>1</th>\n",
       "      <td>3831.0</td>\n",
       "      <td>1.0</td>\n",
       "      <td>76.0</td>\n",
       "      <td>408.0</td>\n",
       "      <td>44348.0</td>\n",
       "      <td>5.03</td>\n",
       "    </tr>\n",
       "    <tr>\n",
       "      <th>2</th>\n",
       "      <td>5121.0</td>\n",
       "      <td>2.0</td>\n",
       "      <td>60.0</td>\n",
       "      <td>50.0</td>\n",
       "      <td>42522.0</td>\n",
       "      <td>0.54</td>\n",
       "    </tr>\n",
       "    <tr>\n",
       "      <th>3</th>\n",
       "      <td>5136.0</td>\n",
       "      <td>1.0</td>\n",
       "      <td>275.0</td>\n",
       "      <td>2.0</td>\n",
       "      <td>44409.0</td>\n",
       "      <td>0.02</td>\n",
       "    </tr>\n",
       "    <tr>\n",
       "      <th>4</th>\n",
       "      <td>5178.0</td>\n",
       "      <td>2.0</td>\n",
       "      <td>68.0</td>\n",
       "      <td>490.0</td>\n",
       "      <td>44409.0</td>\n",
       "      <td>3.64</td>\n",
       "    </tr>\n",
       "  </tbody>\n",
       "</table>\n",
       "</div>"
      ],
      "text/plain": [
       "       id  room_type  price  num_revs  last_review  reviews_per_month\n",
       "0  2595.0        1.0  150.0      48.0      43770.0               0.33\n",
       "1  3831.0        1.0   76.0     408.0      44348.0               5.03\n",
       "2  5121.0        2.0   60.0      50.0      42522.0               0.54\n",
       "3  5136.0        1.0  275.0       2.0      44409.0               0.02\n",
       "4  5178.0        2.0   68.0     490.0      44409.0               3.64"
      ]
     },
     "execution_count": 83,
     "metadata": {},
     "output_type": "execute_result"
    }
   ],
   "source": [
    "df = pd.read_csv('nyc5.csv', nrows=None) # this line to convert Last Review\n",
    "# to a range of numbers that can be used as opposed to the dates\n",
    "\n",
    "df.head()"
   ]
  },
  {
   "cell_type": "code",
   "execution_count": 84,
   "id": "c1dac801",
   "metadata": {},
   "outputs": [],
   "source": [
    "cleaned = df.dropna(subset = ['id', 'room_type', 'price', 'num_revs', 'last_review',\n",
    "                              'reviews_per_month'])"
   ]
  },
  {
   "cell_type": "code",
   "execution_count": 85,
   "id": "7d9a2dbd",
   "metadata": {},
   "outputs": [
    {
     "data": {
      "text/plain": [
       "0.0"
      ]
     },
     "execution_count": 85,
     "metadata": {},
     "output_type": "execute_result"
    }
   ],
   "source": [
    "# Price - Last Review  \n",
    "data = cleaned.price.values, cleaned.last_review.values\n",
    "ht = CorrelationPermute(data)\n",
    "pvalue = ht.PValue()\n",
    "pvalue  \n",
    "\n",
    "# P Value of 0 - unlikely that these are by chance"
   ]
  },
  {
   "cell_type": "code",
   "execution_count": 87,
   "id": "7507d68c",
   "metadata": {},
   "outputs": [
    {
     "data": {
      "text/plain": [
       "0.384"
      ]
     },
     "execution_count": 87,
     "metadata": {},
     "output_type": "execute_result"
    }
   ],
   "source": [
    "# Price - Reviews per Month \n",
    "data = cleaned.price.values, cleaned.reviews_per_month.values\n",
    "ht = CorrelationPermute(data)\n",
    "pvalue = ht.PValue()\n",
    "pvalue  \n",
    "\n",
    "# Relationship possibly by chance"
   ]
  },
  {
   "cell_type": "code",
   "execution_count": 88,
   "id": "4c95e7ee",
   "metadata": {},
   "outputs": [
    {
     "data": {
      "text/plain": [
       "0.0"
      ]
     },
     "execution_count": 88,
     "metadata": {},
     "output_type": "execute_result"
    }
   ],
   "source": [
    "# Price - Number of Reviews  \n",
    "data = cleaned.price.values, cleaned.num_revs.values\n",
    "ht = CorrelationPermute(data)\n",
    "pvalue = ht.PValue()\n",
    "pvalue  \n",
    "\n",
    "# Unlikely to be by chance"
   ]
  },
  {
   "cell_type": "code",
   "execution_count": 89,
   "id": "7cc27487",
   "metadata": {},
   "outputs": [],
   "source": [
    "# Regression Analysis - One Dependent + One Explanatory Var \n",
    "\n",
    "# SINGLE REGRESSION\n",
    "\n",
    "df = pd.read_csv(r'nyc5.csv', nrows = None)  \n",
    "cleaned = df.dropna(subset = ['id', 'room_type', 'price', 'num_revs', 'last_review',\n",
    "                              'reviews_per_month'])    \n",
    "    \n",
    "price = cleaned.price    \n",
    "num_revs = cleaned.num_revs    \n",
    "revs_per_month = cleaned.reviews_per_month    \n",
    "last_review = cleaned.last_review"
   ]
  },
  {
   "cell_type": "code",
   "execution_count": 91,
   "id": "2008ec6f",
   "metadata": {},
   "outputs": [
    {
     "data": {
      "text/plain": [
       "(33.52001916104186, -0.012734722185256989)"
      ]
     },
     "execution_count": 91,
     "metadata": {},
     "output_type": "execute_result"
    }
   ],
   "source": [
    "def LeastSquares(xs, ys):\n",
    "    meanx, varx = MeanVar(xs)\n",
    "    meany = Mean(ys)\n",
    "\n",
    "    slope = Cov(xs, ys, meanx, meany) / varx\n",
    "    inter = meany - slope * meanx\n",
    "\n",
    "    return inter, slope    \n",
    "    \n",
    "inter, slope = LeastSquares(price, num_revs)\n",
    "inter, slope "
   ]
  },
  {
   "cell_type": "code",
   "execution_count": 92,
   "id": "717e22dc",
   "metadata": {},
   "outputs": [
    {
     "data": {
      "text/plain": [
       "(1.4804098845607434, 0.00012992220859425215)"
      ]
     },
     "execution_count": 92,
     "metadata": {},
     "output_type": "execute_result"
    }
   ],
   "source": [
    "inter, slope = LeastSquares(price, revs_per_month)\n",
    "inter, slope      "
   ]
  },
  {
   "cell_type": "code",
   "execution_count": 93,
   "id": "781fae9f",
   "metadata": {},
   "outputs": [
    {
     "data": {
      "text/plain": [
       "(0.7801616462214668, 0.022790698587544997)"
      ]
     },
     "execution_count": 93,
     "metadata": {},
     "output_type": "execute_result"
    }
   ],
   "source": [
    "inter, slope = LeastSquares(num_revs, revs_per_month)\n",
    "inter, slope "
   ]
  },
  {
   "cell_type": "code",
   "execution_count": 94,
   "id": "d38018db",
   "metadata": {},
   "outputs": [
    {
     "data": {
      "text/plain": [
       "(155.27261864737198, -0.11619681973034132)"
      ]
     },
     "execution_count": 94,
     "metadata": {},
     "output_type": "execute_result"
    }
   ],
   "source": [
    "inter, slope = LeastSquares(num_revs, price)\n",
    "inter, slope "
   ]
  },
  {
   "cell_type": "code",
   "execution_count": 95,
   "id": "01d9542a",
   "metadata": {},
   "outputs": [
    {
     "data": {
      "text/plain": [
       "(43832.71896145397, 0.2838857614761463)"
      ]
     },
     "execution_count": 95,
     "metadata": {},
     "output_type": "execute_result"
    }
   ],
   "source": [
    "inter, slope = LeastSquares(price, last_review)\n",
    "inter, slope    \n",
    "\n",
    "# The dates represented here fall around January 2020"
   ]
  },
  {
   "cell_type": "code",
   "execution_count": 97,
   "id": "410b6ac5",
   "metadata": {},
   "outputs": [
    {
     "data": {
      "text/plain": [
       "(43786.77562649456, 2.816798231384011)"
      ]
     },
     "execution_count": 97,
     "metadata": {},
     "output_type": "execute_result"
    }
   ],
   "source": [
    "inter, slope = LeastSquares(num_revs, last_review)\n",
    "inter, slope  \n",
    "\n",
    "# Date is between November and December of 2019"
   ]
  },
  {
   "cell_type": "code",
   "execution_count": 98,
   "id": "a448d70c",
   "metadata": {},
   "outputs": [
    {
     "data": {
      "text/plain": [
       "(43819.915141017795, 37.225012679369414)"
      ]
     },
     "execution_count": 98,
     "metadata": {},
     "output_type": "execute_result"
    }
   ],
   "source": [
    "inter, slope = LeastSquares(revs_per_month, last_review)\n",
    "inter, slope    \n",
    "\n",
    "# Date is between December 2019 and January 2020  "
   ]
  },
  {
   "cell_type": "code",
   "execution_count": 99,
   "id": "74d54017",
   "metadata": {},
   "outputs": [],
   "source": [
    "def FitLine(xs, inter, slope):\n",
    "    fit_xs = np.sort(xs)\n",
    "    fit_ys = inter + slope * fit_xs\n",
    "    return fit_xs, fit_ys"
   ]
  },
  {
   "cell_type": "code",
   "execution_count": 100,
   "id": "dd497562",
   "metadata": {},
   "outputs": [
    {
     "data": {
      "image/png": "[encoded data removed]",
      "text/plain": [
       "<Figure size 432x288 with 1 Axes>"
      ]
     },
     "metadata": {
      "needs_background": "light"
     },
     "output_type": "display_data"
    }
   ],
   "source": [
    "# Price and Reviews per Month\n",
    "fit_xs, fit_ys = FitLine(price, inter, slope)\n",
    "\n",
    "thinkplot.Scatter(price, revs_per_month, color='blue', alpha=0.1, s=10)\n",
    "thinkplot.Plot(fit_xs, fit_ys, color='white', linewidth=3)\n",
    "thinkplot.Plot(fit_xs, fit_ys, color='red', linewidth=2)\n",
    "thinkplot.Config(xlabel=\"Price\",\n",
    "                 ylabel='Reviews per Month',\n",
    "                 axis = [0, 1750, 0, 175],\n",
    "                 legend=False)"
   ]
  },
  {
   "cell_type": "code",
   "execution_count": 101,
   "id": "bce2bcf6",
   "metadata": {},
   "outputs": [
    {
     "data": {
      "image/png": "[encoded data removed]",
      "text/plain": [
       "<Figure size 432x288 with 1 Axes>"
      ]
     },
     "metadata": {
      "needs_background": "light"
     },
     "output_type": "display_data"
    }
   ],
   "source": [
    "# Price and Number of Reviews\n",
    "fit_xs, fit_ys = FitLine(price, inter, slope)\n",
    "\n",
    "thinkplot.Scatter(price, num_revs, color='blue', alpha=0.1, s=10)\n",
    "thinkplot.Plot(fit_xs, fit_ys, color='white', linewidth=3)\n",
    "thinkplot.Plot(fit_xs, fit_ys, color='red', linewidth=2)\n",
    "thinkplot.Config(xlabel=\"Price\",\n",
    "                 ylabel='Number of Reviews',\n",
    "                 axis = [0, 2000, 0, 300],\n",
    "                 legend=False)"
   ]
  },
  {
   "cell_type": "code",
   "execution_count": 102,
   "id": "1fc09bc4",
   "metadata": {},
   "outputs": [
    {
     "data": {
      "image/png": "[encoded data removed]",
      "text/plain": [
       "<Figure size 432x288 with 1 Axes>"
      ]
     },
     "metadata": {
      "needs_background": "light"
     },
     "output_type": "display_data"
    }
   ],
   "source": [
    "# Price - Last Review\n",
    "fit_xs, fit_ys = FitLine(price, inter, slope)\n",
    "\n",
    "thinkplot.Scatter(price, last_review, color='blue', alpha=0.1, s=10)\n",
    "thinkplot.Plot(fit_xs, fit_ys, color='white', linewidth=3)\n",
    "thinkplot.Plot(fit_xs, fit_ys, color='red', linewidth=2)\n",
    "thinkplot.Config(xlabel=\"Price\",\n",
    "                 ylabel='Last Review',\n",
    "                 axis = [0, 2000, 41000, 45000],\n",
    "                 legend=False)"
   ]
  },
  {
   "cell_type": "code",
   "execution_count": 104,
   "id": "aae13fb6",
   "metadata": {},
   "outputs": [
    {
     "data": {
      "text/html": [
       "<table class=\"simpletable\">\n",
       "<caption>OLS Regression Results</caption>\n",
       "<tr>\n",
       "  <th>Dep. Variable:</th>        <td>num_revs</td>     <th>  R-squared:         </th>  <td>   0.067</td>  \n",
       "</tr>\n",
       "<tr>\n",
       "  <th>Model:</th>                   <td>OLS</td>       <th>  Adj. R-squared:    </th>  <td>   0.067</td>  \n",
       "</tr>\n",
       "<tr>\n",
       "  <th>Method:</th>             <td>Least Squares</td>  <th>  F-statistic:       </th>  <td>   1927.</td>  \n",
       "</tr>\n",
       "<tr>\n",
       "  <th>Date:</th>             <td>Sat, 01 Jul 2023</td> <th>  Prob (F-statistic):</th>   <td>  0.00</td>   \n",
       "</tr>\n",
       "<tr>\n",
       "  <th>Time:</th>                 <td>17:13:33</td>     <th>  Log-Likelihood:    </th> <td>-1.4430e+05</td>\n",
       "</tr>\n",
       "<tr>\n",
       "  <th>No. Observations:</th>      <td> 26703</td>      <th>  AIC:               </th>  <td>2.886e+05</td> \n",
       "</tr>\n",
       "<tr>\n",
       "  <th>Df Residuals:</th>          <td> 26701</td>      <th>  BIC:               </th>  <td>2.886e+05</td> \n",
       "</tr>\n",
       "<tr>\n",
       "  <th>Df Model:</th>              <td>     1</td>      <th>                     </th>      <td> </td>     \n",
       "</tr>\n",
       "<tr>\n",
       "  <th>Covariance Type:</th>      <td>nonrobust</td>    <th>                     </th>      <td> </td>     \n",
       "</tr>\n",
       "</table>\n",
       "<table class=\"simpletable\">\n",
       "<tr>\n",
       "       <td></td>          <th>coef</th>     <th>std err</th>      <th>t</th>      <th>P>|t|</th>  <th>[0.025</th>    <th>0.975]</th>  \n",
       "</tr>\n",
       "<tr>\n",
       "  <th>Intercept</th>   <td>-1016.8445</td> <td>   23.886</td> <td>  -42.570</td> <td> 0.000</td> <td>-1063.663</td> <td> -970.026</td>\n",
       "</tr>\n",
       "<tr>\n",
       "  <th>last_review</th> <td>    0.0239</td> <td>    0.001</td> <td>   43.897</td> <td> 0.000</td> <td>    0.023</td> <td>    0.025</td>\n",
       "</tr>\n",
       "</table>\n",
       "<table class=\"simpletable\">\n",
       "<tr>\n",
       "  <th>Omnibus:</th>       <td>20753.897</td> <th>  Durbin-Watson:     </th>  <td>   1.516</td> \n",
       "</tr>\n",
       "<tr>\n",
       "  <th>Prob(Omnibus):</th>  <td> 0.000</td>   <th>  Jarque-Bera (JB):  </th> <td>551707.839</td>\n",
       "</tr>\n",
       "<tr>\n",
       "  <th>Skew:</th>           <td> 3.566</td>   <th>  Prob(JB):          </th>  <td>    0.00</td> \n",
       "</tr>\n",
       "<tr>\n",
       "  <th>Kurtosis:</th>       <td>24.095</td>   <th>  Cond. No.          </th>  <td>3.18e+06</td> \n",
       "</tr>\n",
       "</table><br/><br/>Notes:<br/>[1] Standard Errors assume that the covariance matrix of the errors is correctly specified.<br/>[2] The condition number is large, 3.18e+06. This might indicate that there are<br/>strong multicollinearity or other numerical problems."
      ],
      "text/plain": [
       "<class 'statsmodels.iolib.summary.Summary'>\n",
       "\"\"\"\n",
       "                            OLS Regression Results                            \n",
       "==============================================================================\n",
       "Dep. Variable:               num_revs   R-squared:                       0.067\n",
       "Model:                            OLS   Adj. R-squared:                  0.067\n",
       "Method:                 Least Squares   F-statistic:                     1927.\n",
       "Date:                Sat, 01 Jul 2023   Prob (F-statistic):               0.00\n",
       "Time:                        17:13:33   Log-Likelihood:            -1.4430e+05\n",
       "No. Observations:               26703   AIC:                         2.886e+05\n",
       "Df Residuals:                   26701   BIC:                         2.886e+05\n",
       "Df Model:                           1                                         \n",
       "Covariance Type:            nonrobust                                         \n",
       "===============================================================================\n",
       "                  coef    std err          t      P>|t|      [0.025      0.975]\n",
       "-------------------------------------------------------------------------------\n",
       "Intercept   -1016.8445     23.886    -42.570      0.000   -1063.663    -970.026\n",
       "last_review     0.0239      0.001     43.897      0.000       0.023       0.025\n",
       "==============================================================================\n",
       "Omnibus:                    20753.897   Durbin-Watson:                   1.516\n",
       "Prob(Omnibus):                  0.000   Jarque-Bera (JB):           551707.839\n",
       "Skew:                           3.566   Prob(JB):                         0.00\n",
       "Kurtosis:                      24.095   Cond. No.                     3.18e+06\n",
       "==============================================================================\n",
       "\n",
       "Notes:\n",
       "[1] Standard Errors assume that the covariance matrix of the errors is correctly specified.\n",
       "[2] The condition number is large, 3.18e+06. This might indicate that there are\n",
       "strong multicollinearity or other numerical problems.\n",
       "\"\"\""
      ]
     },
     "execution_count": 104,
     "metadata": {},
     "output_type": "execute_result"
    }
   ],
   "source": [
    "# MULTIPLE REGRESSION#\n",
    "\n",
    "#OLS Regression - Number of Reviews / Last Review\n",
    "df = pd.read_csv(r'nyc5.csv', nrows = None)  \n",
    "cleaned = df.dropna(subset = ['id', 'room_type', 'price', 'num_revs', 'last_review',\n",
    "                              'reviews_per_month'])    \n",
    "\n",
    "formula = 'num_revs ~ last_review'\n",
    "model = smf.ols(formula, data=df)\n",
    "results = model.fit()\n",
    "results.summary()"
   ]
  },
  {
   "cell_type": "code",
   "execution_count": 105,
   "id": "ae5d4776",
   "metadata": {},
   "outputs": [
    {
     "data": {
      "text/html": [
       "<table class=\"simpletable\">\n",
       "<caption>OLS Regression Results</caption>\n",
       "<tr>\n",
       "  <th>Dep. Variable:</th>        <td>num_revs</td>     <th>  R-squared:         </th>  <td>   0.001</td>  \n",
       "</tr>\n",
       "<tr>\n",
       "  <th>Model:</th>                   <td>OLS</td>       <th>  Adj. R-squared:    </th>  <td>   0.001</td>  \n",
       "</tr>\n",
       "<tr>\n",
       "  <th>Method:</th>             <td>Least Squares</td>  <th>  F-statistic:       </th>  <td>   39.57</td>  \n",
       "</tr>\n",
       "<tr>\n",
       "  <th>Date:</th>             <td>Sat, 01 Jul 2023</td> <th>  Prob (F-statistic):</th>  <td>3.22e-10</td>  \n",
       "</tr>\n",
       "<tr>\n",
       "  <th>Time:</th>                 <td>17:13:43</td>     <th>  Log-Likelihood:    </th> <td>-1.4521e+05</td>\n",
       "</tr>\n",
       "<tr>\n",
       "  <th>No. Observations:</th>      <td> 26703</td>      <th>  AIC:               </th>  <td>2.904e+05</td> \n",
       "</tr>\n",
       "<tr>\n",
       "  <th>Df Residuals:</th>          <td> 26701</td>      <th>  BIC:               </th>  <td>2.904e+05</td> \n",
       "</tr>\n",
       "<tr>\n",
       "  <th>Df Model:</th>              <td>     1</td>      <th>                     </th>      <td> </td>     \n",
       "</tr>\n",
       "<tr>\n",
       "  <th>Covariance Type:</th>      <td>nonrobust</td>    <th>                     </th>      <td> </td>     \n",
       "</tr>\n",
       "</table>\n",
       "<table class=\"simpletable\">\n",
       "<tr>\n",
       "      <td></td>         <th>coef</th>     <th>std err</th>      <th>t</th>      <th>P>|t|</th>  <th>[0.025</th>    <th>0.975]</th>  \n",
       "</tr>\n",
       "<tr>\n",
       "  <th>Intercept</th> <td>   33.5200</td> <td>    0.458</td> <td>   73.114</td> <td> 0.000</td> <td>   32.621</td> <td>   34.419</td>\n",
       "</tr>\n",
       "<tr>\n",
       "  <th>price</th>     <td>   -0.0127</td> <td>    0.002</td> <td>   -6.290</td> <td> 0.000</td> <td>   -0.017</td> <td>   -0.009</td>\n",
       "</tr>\n",
       "</table>\n",
       "<table class=\"simpletable\">\n",
       "<tr>\n",
       "  <th>Omnibus:</th>       <td>20952.866</td> <th>  Durbin-Watson:     </th>  <td>   1.707</td> \n",
       "</tr>\n",
       "<tr>\n",
       "  <th>Prob(Omnibus):</th>  <td> 0.000</td>   <th>  Jarque-Bera (JB):  </th> <td>529231.360</td>\n",
       "</tr>\n",
       "<tr>\n",
       "  <th>Skew:</th>           <td> 3.642</td>   <th>  Prob(JB):          </th>  <td>    0.00</td> \n",
       "</tr>\n",
       "<tr>\n",
       "  <th>Kurtosis:</th>       <td>23.557</td>   <th>  Cond. No.          </th>  <td>    305.</td> \n",
       "</tr>\n",
       "</table><br/><br/>Notes:<br/>[1] Standard Errors assume that the covariance matrix of the errors is correctly specified."
      ],
      "text/plain": [
       "<class 'statsmodels.iolib.summary.Summary'>\n",
       "\"\"\"\n",
       "                            OLS Regression Results                            \n",
       "==============================================================================\n",
       "Dep. Variable:               num_revs   R-squared:                       0.001\n",
       "Model:                            OLS   Adj. R-squared:                  0.001\n",
       "Method:                 Least Squares   F-statistic:                     39.57\n",
       "Date:                Sat, 01 Jul 2023   Prob (F-statistic):           3.22e-10\n",
       "Time:                        17:13:43   Log-Likelihood:            -1.4521e+05\n",
       "No. Observations:               26703   AIC:                         2.904e+05\n",
       "Df Residuals:                   26701   BIC:                         2.904e+05\n",
       "Df Model:                           1                                         \n",
       "Covariance Type:            nonrobust                                         \n",
       "==============================================================================\n",
       "                 coef    std err          t      P>|t|      [0.025      0.975]\n",
       "------------------------------------------------------------------------------\n",
       "Intercept     33.5200      0.458     73.114      0.000      32.621      34.419\n",
       "price         -0.0127      0.002     -6.290      0.000      -0.017      -0.009\n",
       "==============================================================================\n",
       "Omnibus:                    20952.866   Durbin-Watson:                   1.707\n",
       "Prob(Omnibus):                  0.000   Jarque-Bera (JB):           529231.360\n",
       "Skew:                           3.642   Prob(JB):                         0.00\n",
       "Kurtosis:                      23.557   Cond. No.                         305.\n",
       "==============================================================================\n",
       "\n",
       "Notes:\n",
       "[1] Standard Errors assume that the covariance matrix of the errors is correctly specified.\n",
       "\"\"\""
      ]
     },
     "execution_count": 105,
     "metadata": {},
     "output_type": "execute_result"
    }
   ],
   "source": [
    "# OLS Regression - Number of Reviews / Price\n",
    "formula = 'num_revs ~ price'\n",
    "model = smf.ols(formula, data=df)\n",
    "results = model.fit()\n",
    "results.summary()"
   ]
  },
  {
   "cell_type": "code",
   "execution_count": 106,
   "id": "68f60d32",
   "metadata": {},
   "outputs": [
    {
     "data": {
      "text/html": [
       "<table class=\"simpletable\">\n",
       "<caption>OLS Regression Results</caption>\n",
       "<tr>\n",
       "  <th>Dep. Variable:</th>       <td>last_review</td>   <th>  R-squared:         </th>  <td>   0.006</td>  \n",
       "</tr>\n",
       "<tr>\n",
       "  <th>Model:</th>                   <td>OLS</td>       <th>  Adj. R-squared:    </th>  <td>   0.006</td>  \n",
       "</tr>\n",
       "<tr>\n",
       "  <th>Method:</th>             <td>Least Squares</td>  <th>  F-statistic:       </th>  <td>   167.6</td>  \n",
       "</tr>\n",
       "<tr>\n",
       "  <th>Date:</th>             <td>Sat, 01 Jul 2023</td> <th>  Prob (F-statistic):</th>  <td>3.21e-38</td>  \n",
       "</tr>\n",
       "<tr>\n",
       "  <th>Time:</th>                 <td>17:15:10</td>     <th>  Log-Likelihood:    </th> <td>-2.0883e+05</td>\n",
       "</tr>\n",
       "<tr>\n",
       "  <th>No. Observations:</th>      <td> 26703</td>      <th>  AIC:               </th>  <td>4.177e+05</td> \n",
       "</tr>\n",
       "<tr>\n",
       "  <th>Df Residuals:</th>          <td> 26701</td>      <th>  BIC:               </th>  <td>4.177e+05</td> \n",
       "</tr>\n",
       "<tr>\n",
       "  <th>Df Model:</th>              <td>     1</td>      <th>                     </th>      <td> </td>     \n",
       "</tr>\n",
       "<tr>\n",
       "  <th>Covariance Type:</th>      <td>nonrobust</td>    <th>                     </th>      <td> </td>     \n",
       "</tr>\n",
       "</table>\n",
       "<table class=\"simpletable\">\n",
       "<tr>\n",
       "      <td></td>         <th>coef</th>     <th>std err</th>      <th>t</th>      <th>P>|t|</th>  <th>[0.025</th>    <th>0.975]</th>  \n",
       "</tr>\n",
       "<tr>\n",
       "  <th>Intercept</th> <td> 4.383e+04</td> <td>    4.966</td> <td> 8826.986</td> <td> 0.000</td> <td> 4.38e+04</td> <td> 4.38e+04</td>\n",
       "</tr>\n",
       "<tr>\n",
       "  <th>price</th>     <td>    0.2839</td> <td>    0.022</td> <td>   12.946</td> <td> 0.000</td> <td>    0.241</td> <td>    0.327</td>\n",
       "</tr>\n",
       "</table>\n",
       "<table class=\"simpletable\">\n",
       "<tr>\n",
       "  <th>Omnibus:</th>       <td>3403.975</td> <th>  Durbin-Watson:     </th> <td>   1.345</td>\n",
       "</tr>\n",
       "<tr>\n",
       "  <th>Prob(Omnibus):</th>  <td> 0.000</td>  <th>  Jarque-Bera (JB):  </th> <td>4907.080</td>\n",
       "</tr>\n",
       "<tr>\n",
       "  <th>Skew:</th>           <td>-1.049</td>  <th>  Prob(JB):          </th> <td>    0.00</td>\n",
       "</tr>\n",
       "<tr>\n",
       "  <th>Kurtosis:</th>       <td> 3.105</td>  <th>  Cond. No.          </th> <td>    305.</td>\n",
       "</tr>\n",
       "</table><br/><br/>Notes:<br/>[1] Standard Errors assume that the covariance matrix of the errors is correctly specified."
      ],
      "text/plain": [
       "<class 'statsmodels.iolib.summary.Summary'>\n",
       "\"\"\"\n",
       "                            OLS Regression Results                            \n",
       "==============================================================================\n",
       "Dep. Variable:            last_review   R-squared:                       0.006\n",
       "Model:                            OLS   Adj. R-squared:                  0.006\n",
       "Method:                 Least Squares   F-statistic:                     167.6\n",
       "Date:                Sat, 01 Jul 2023   Prob (F-statistic):           3.21e-38\n",
       "Time:                        17:15:10   Log-Likelihood:            -2.0883e+05\n",
       "No. Observations:               26703   AIC:                         4.177e+05\n",
       "Df Residuals:                   26701   BIC:                         4.177e+05\n",
       "Df Model:                           1                                         \n",
       "Covariance Type:            nonrobust                                         \n",
       "==============================================================================\n",
       "                 coef    std err          t      P>|t|      [0.025      0.975]\n",
       "------------------------------------------------------------------------------\n",
       "Intercept   4.383e+04      4.966   8826.986      0.000    4.38e+04    4.38e+04\n",
       "price          0.2839      0.022     12.946      0.000       0.241       0.327\n",
       "==============================================================================\n",
       "Omnibus:                     3403.975   Durbin-Watson:                   1.345\n",
       "Prob(Omnibus):                  0.000   Jarque-Bera (JB):             4907.080\n",
       "Skew:                          -1.049   Prob(JB):                         0.00\n",
       "Kurtosis:                       3.105   Cond. No.                         305.\n",
       "==============================================================================\n",
       "\n",
       "Notes:\n",
       "[1] Standard Errors assume that the covariance matrix of the errors is correctly specified.\n",
       "\"\"\""
      ]
     },
     "execution_count": 106,
     "metadata": {},
     "output_type": "execute_result"
    }
   ],
   "source": [
    "# OLS Regression - Last Review / Price\n",
    "formula = 'last_review ~ price'\n",
    "model = smf.ols(formula, data=df)\n",
    "results = model.fit()\n",
    "results.summary()"
   ]
  },
  {
   "cell_type": "code",
   "execution_count": 107,
   "id": "1a5b3bf1",
   "metadata": {},
   "outputs": [
    {
     "data": {
      "text/html": [
       "<table class=\"simpletable\">\n",
       "<caption>OLS Regression Results</caption>\n",
       "<tr>\n",
       "  <th>Dep. Variable:</th>       <td>last_review</td>   <th>  R-squared:         </th>  <td>   0.067</td>  \n",
       "</tr>\n",
       "<tr>\n",
       "  <th>Model:</th>                   <td>OLS</td>       <th>  Adj. R-squared:    </th>  <td>   0.067</td>  \n",
       "</tr>\n",
       "<tr>\n",
       "  <th>Method:</th>             <td>Least Squares</td>  <th>  F-statistic:       </th>  <td>   1927.</td>  \n",
       "</tr>\n",
       "<tr>\n",
       "  <th>Date:</th>             <td>Sat, 01 Jul 2023</td> <th>  Prob (F-statistic):</th>   <td>  0.00</td>   \n",
       "</tr>\n",
       "<tr>\n",
       "  <th>Time:</th>                 <td>17:15:28</td>     <th>  Log-Likelihood:    </th> <td>-2.0798e+05</td>\n",
       "</tr>\n",
       "<tr>\n",
       "  <th>No. Observations:</th>      <td> 26703</td>      <th>  AIC:               </th>  <td>4.160e+05</td> \n",
       "</tr>\n",
       "<tr>\n",
       "  <th>Df Residuals:</th>          <td> 26701</td>      <th>  BIC:               </th>  <td>4.160e+05</td> \n",
       "</tr>\n",
       "<tr>\n",
       "  <th>Df Model:</th>              <td>     1</td>      <th>                     </th>      <td> </td>     \n",
       "</tr>\n",
       "<tr>\n",
       "  <th>Covariance Type:</th>      <td>nonrobust</td>    <th>                     </th>      <td> </td>     \n",
       "</tr>\n",
       "</table>\n",
       "<table class=\"simpletable\">\n",
       "<tr>\n",
       "      <td></td>         <th>coef</th>     <th>std err</th>      <th>t</th>      <th>P>|t|</th>  <th>[0.025</th>    <th>0.975]</th>  \n",
       "</tr>\n",
       "<tr>\n",
       "  <th>Intercept</th> <td> 4.379e+04</td> <td>    4.109</td> <td> 1.07e+04</td> <td> 0.000</td> <td> 4.38e+04</td> <td> 4.38e+04</td>\n",
       "</tr>\n",
       "<tr>\n",
       "  <th>num_revs</th>  <td>    2.8168</td> <td>    0.064</td> <td>   43.897</td> <td> 0.000</td> <td>    2.691</td> <td>    2.943</td>\n",
       "</tr>\n",
       "</table>\n",
       "<table class=\"simpletable\">\n",
       "<tr>\n",
       "  <th>Omnibus:</th>       <td>2860.245</td> <th>  Durbin-Watson:     </th> <td>   1.148</td>\n",
       "</tr>\n",
       "<tr>\n",
       "  <th>Prob(Omnibus):</th>  <td> 0.000</td>  <th>  Jarque-Bera (JB):  </th> <td>3900.753</td>\n",
       "</tr>\n",
       "<tr>\n",
       "  <th>Skew:</th>           <td>-0.936</td>  <th>  Prob(JB):          </th> <td>    0.00</td>\n",
       "</tr>\n",
       "<tr>\n",
       "  <th>Kurtosis:</th>       <td> 2.960</td>  <th>  Cond. No.          </th> <td>    73.6</td>\n",
       "</tr>\n",
       "</table><br/><br/>Notes:<br/>[1] Standard Errors assume that the covariance matrix of the errors is correctly specified."
      ],
      "text/plain": [
       "<class 'statsmodels.iolib.summary.Summary'>\n",
       "\"\"\"\n",
       "                            OLS Regression Results                            \n",
       "==============================================================================\n",
       "Dep. Variable:            last_review   R-squared:                       0.067\n",
       "Model:                            OLS   Adj. R-squared:                  0.067\n",
       "Method:                 Least Squares   F-statistic:                     1927.\n",
       "Date:                Sat, 01 Jul 2023   Prob (F-statistic):               0.00\n",
       "Time:                        17:15:28   Log-Likelihood:            -2.0798e+05\n",
       "No. Observations:               26703   AIC:                         4.160e+05\n",
       "Df Residuals:                   26701   BIC:                         4.160e+05\n",
       "Df Model:                           1                                         \n",
       "Covariance Type:            nonrobust                                         \n",
       "==============================================================================\n",
       "                 coef    std err          t      P>|t|      [0.025      0.975]\n",
       "------------------------------------------------------------------------------\n",
       "Intercept   4.379e+04      4.109   1.07e+04      0.000    4.38e+04    4.38e+04\n",
       "num_revs       2.8168      0.064     43.897      0.000       2.691       2.943\n",
       "==============================================================================\n",
       "Omnibus:                     2860.245   Durbin-Watson:                   1.148\n",
       "Prob(Omnibus):                  0.000   Jarque-Bera (JB):             3900.753\n",
       "Skew:                          -0.936   Prob(JB):                         0.00\n",
       "Kurtosis:                       2.960   Cond. No.                         73.6\n",
       "==============================================================================\n",
       "\n",
       "Notes:\n",
       "[1] Standard Errors assume that the covariance matrix of the errors is correctly specified.\n",
       "\"\"\""
      ]
     },
     "execution_count": 107,
     "metadata": {},
     "output_type": "execute_result"
    }
   ],
   "source": [
    "# OLS Regression - Last Review / Number of Reviews\n",
    "formula = 'last_review ~ num_revs'\n",
    "model = smf.ols(formula, data=df)\n",
    "results = model.fit()\n",
    "results.summary()"
   ]
  },
  {
   "cell_type": "markdown",
   "id": "b4bba27e",
   "metadata": {},
   "source": [
    "### References\n",
    "\n",
    "Downey, A. B. (2011). Think Stats (1st ed.). O’Reilly. \n",
    "\n",
    "Get the Data. Inside Airbnb. (n.d.). http://insideairbnb.com/get-the-data/ "
   ]
  },
  {
   "cell_type": "code",
   "execution_count": null,
   "id": "5614ef04",
   "metadata": {},
   "outputs": [],
   "source": []
  }
 ],
 "metadata": {
  "kernelspec": {
   "display_name": "Python 3 (ipykernel)",
   "language": "python",
   "name": "python3"
  },
  "language_info": {
   "codemirror_mode": {
    "name": "ipython",
    "version": 3
   },
   "file_extension": ".py",
   "mimetype": "text/x-python",
   "name": "python",
   "nbconvert_exporter": "python",
   "pygments_lexer": "ipython3",
   "version": "3.9.12"
  }
 },
 "nbformat": 4,
 "nbformat_minor": 5
}
