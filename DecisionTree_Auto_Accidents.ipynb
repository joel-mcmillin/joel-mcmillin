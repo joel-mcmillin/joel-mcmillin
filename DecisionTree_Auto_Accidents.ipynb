{
 "cells": [
  {
   "cell_type": "markdown",
   "id": "dfd6ef60",
   "metadata": {},
   "source": [
    "### This project explores using a Decision Tree model to answer whether variables in a dataset could help in identifying automobile accident risk"
   ]
  },
  {
   "cell_type": "code",
   "execution_count": 1,
   "id": "8e7e9d64",
   "metadata": {},
   "outputs": [],
   "source": [
    "import pandas as pd\n",
    "import numpy as np\n",
    "import matplotlib.pyplot as plt\n",
    "from matplotlib import pyplot as plt\n",
    "%matplotlib inline\n",
    "import seaborn as sns\n",
    "import math \n",
    "from sklearn.preprocessing import StandardScaler\n",
    "from sklearn.preprocessing import MinMaxScaler\n",
    "from sklearn import metrics\n",
    "from sklearn.model_selection import train_test_split\n",
    "from sklearn.cluster import KMeans\n",
    "from sklearn.metrics import silhouette_score\n",
    "from sklearn.decomposition import PCA\n",
    "from sklearn import tree\n",
    "from sklearn import datasets\n",
    "from sklearn import preprocessing\n",
    "from sklearn.preprocessing import LabelEncoder\n",
    "from sklearn.preprocessing import OneHotEncoder\n",
    "from sklearn.tree import DecisionTreeClassifier\n",
    "from sklearn import linear_model\n",
    "from sklearn.model_selection import cross_val_predict\n",
    "from sklearn.feature_selection import VarianceThreshold\n",
    "from sklearn.feature_selection import chi2\n",
    "from sklearn.feature_selection import SelectKBest\n",
    "from sklearn.metrics import r2_score, mean_squared_error, mean_absolute_error\n",
    "from sklearn.metrics import accuracy_score, confusion_matrix\n",
    "from sklearn.tree import export_text\n",
    "import geopandas as gpd\n",
    "from shapely.geometry import Point\n",
    "from sklearn.linear_model import LogisticRegression\n",
    "from sklearn.model_selection import cross_val_score, StratifiedKFold\n",
    "from sklearn.feature_extraction.text import TfidfVectorizer\n",
    "from scipy.sparse import hstack\n",
    "import eli5\n",
    "\n",
    "import warnings\n",
    "warnings.filterwarnings(\"ignore\")"
   ]
  },
  {
   "cell_type": "code",
   "execution_count": 2,
   "id": "fbabd8dc",
   "metadata": {},
   "outputs": [],
   "source": [
    "# Loading only necessary columns to avoid loading all and then deleting many more\n",
    "df = pd.read_csv(\"auto_march23.csv\", usecols=['Severity', 'Start_Lat', 'Start_Lng', 'Temperature(F)',\n",
    "                                              'Humidity(%)', 'Weather_Condition','Sunrise_Sunset'])"
   ]
  },
  {
   "cell_type": "markdown",
   "id": "430d4289",
   "metadata": {},
   "source": [
    "Data preparation and exploration"
   ]
  },
  {
   "cell_type": "code",
   "execution_count": 3,
   "id": "8f03ae63",
   "metadata": {},
   "outputs": [
    {
     "data": {
      "text/plain": [
       "53564056"
      ]
     },
     "execution_count": 3,
     "metadata": {},
     "output_type": "execute_result"
    }
   ],
   "source": [
    "# Sum of observations\n",
    "df.count().sum()"
   ]
  },
  {
   "cell_type": "code",
   "execution_count": 4,
   "id": "82777d40",
   "metadata": {},
   "outputs": [
    {
     "data": {
      "text/plain": [
       "534702"
      ]
     },
     "execution_count": 4,
     "metadata": {},
     "output_type": "execute_result"
    }
   ],
   "source": [
    "# Sum of Nan values to confirm impact of removing Nan values \n",
    "df.isna().sum().sum()"
   ]
  },
  {
   "cell_type": "code",
   "execution_count": 5,
   "id": "1dd66f3f",
   "metadata": {},
   "outputs": [
    {
     "data": {
      "text/plain": [
       "0.009982477801905068"
      ]
     },
     "execution_count": 5,
     "metadata": {},
     "output_type": "execute_result"
    }
   ],
   "source": [
    "# Calculating total % of observations that are Nan to address how\n",
    "# we will handle Null values\n",
    "534702 / 53564056\n",
    "\n",
    "# Null observations are .9% of the observations, so we should be safe to remove these with \n",
    "# negatively affecting quantity of usable observations"
   ]
  },
  {
   "cell_type": "code",
   "execution_count": 6,
   "id": "d776317d",
   "metadata": {},
   "outputs": [],
   "source": [
    "# Dropping Nan values\n",
    "df = df.dropna()"
   ]
  },
  {
   "cell_type": "code",
   "execution_count": 7,
   "id": "18742104",
   "metadata": {},
   "outputs": [
    {
     "data": {
      "text/plain": [
       "0"
      ]
     },
     "execution_count": 7,
     "metadata": {},
     "output_type": "execute_result"
    }
   ],
   "source": [
    "# Confirming missing values removed\n",
    "df.isnull().sum().sum()"
   ]
  },
  {
   "cell_type": "code",
   "execution_count": 8,
   "id": "c8122e85",
   "metadata": {},
   "outputs": [
    {
     "data": {
      "text/plain": [
       "2    5975354\n",
       "3    1262415\n",
       "4     194062\n",
       "1      65777\n",
       "Name: Severity, dtype: int64"
      ]
     },
     "execution_count": 8,
     "metadata": {},
     "output_type": "execute_result"
    }
   ],
   "source": [
    "df['Severity'].value_counts()"
   ]
  },
  {
   "cell_type": "code",
   "execution_count": 9,
   "id": "67fc92f6",
   "metadata": {},
   "outputs": [
    {
     "data": {
      "image/png": "[encoded data removed]",
      "text/plain": [
       "<Figure size 432x288 with 1 Axes>"
      ]
     },
     "metadata": {
      "needs_background": "light"
     },
     "output_type": "display_data"
    },
    {
     "data": {
      "text/plain": [
       "<Figure size 432x288 with 0 Axes>"
      ]
     },
     "metadata": {},
     "output_type": "display_data"
    }
   ],
   "source": [
    "sns.countplot(x='Severity', data=df, palette='hls')\n",
    "plt.show()\n",
    "plt.savefig('Count Plot')"
   ]
  },
  {
   "cell_type": "code",
   "execution_count": 10,
   "id": "f8bf7d7f",
   "metadata": {
    "scrolled": true
   },
   "outputs": [
    {
     "data": {
      "text/plain": [
       "Day      5201357\n",
       "Night    2296251\n",
       "Name: Sunrise_Sunset, dtype: int64"
      ]
     },
     "execution_count": 10,
     "metadata": {},
     "output_type": "execute_result"
    }
   ],
   "source": [
    "df['Sunrise_Sunset'].value_counts()"
   ]
  },
  {
   "cell_type": "code",
   "execution_count": 11,
   "id": "33c42f19",
   "metadata": {
    "scrolled": true
   },
   "outputs": [
    {
     "data": {
      "image/png": "[encoded data removed]",
      "text/plain": [
       "<Figure size 432x288 with 1 Axes>"
      ]
     },
     "metadata": {
      "needs_background": "light"
     },
     "output_type": "display_data"
    },
    {
     "data": {
      "text/plain": [
       "<Figure size 432x288 with 0 Axes>"
      ]
     },
     "metadata": {},
     "output_type": "display_data"
    }
   ],
   "source": [
    "sns.countplot(x='Sunrise_Sunset', data=df, palette='hls')\n",
    "plt.show()\n",
    "plt.savefig('Time of Day')"
   ]
  },
  {
   "cell_type": "code",
   "execution_count": 12,
   "id": "7b78ae2a",
   "metadata": {},
   "outputs": [
    {
     "data": {
      "image/png": "[encoded data removed]",
      "text/plain": [
       "<Figure size 432x288 with 1 Axes>"
      ]
     },
     "metadata": {
      "needs_background": "light"
     },
     "output_type": "display_data"
    },
    {
     "data": {
      "text/plain": [
       "<Figure size 432x288 with 0 Axes>"
      ]
     },
     "metadata": {},
     "output_type": "display_data"
    }
   ],
   "source": [
    "sns.countplot(x='Weather_Condition', data=df, palette='hls')\n",
    "plt.show()\n",
    "plt.savefig('Weather Count Plot')"
   ]
  },
  {
   "cell_type": "code",
   "execution_count": 13,
   "id": "6f92b2b3",
   "metadata": {},
   "outputs": [
    {
     "data": {
      "text/plain": [
       "Fair                           2537757\n",
       "Mostly Cloudy                  1011099\n",
       "Cloudy                          810005\n",
       "Clear                           805167\n",
       "Partly Cloudy                   694539\n",
       "                                ...   \n",
       "Heavy Sleet / Windy                  1\n",
       "Dust Whirls                          1\n",
       "Heavy Smoke                          1\n",
       "Heavy Freezing Rain / Windy          1\n",
       "Drifting Snow                        1\n",
       "Name: Weather_Condition, Length: 143, dtype: int64"
      ]
     },
     "execution_count": 13,
     "metadata": {},
     "output_type": "execute_result"
    }
   ],
   "source": [
    "df['Weather_Condition'].value_counts()"
   ]
  },
  {
   "cell_type": "code",
   "execution_count": 14,
   "id": "a449c0de",
   "metadata": {
    "scrolled": true
   },
   "outputs": [
    {
     "name": "stdout",
     "output_type": "stream",
     "text": [
      "Level 1 severity: 0.88% of total accidents\n",
      "Level 2 severity: 79.70% of total accidents\n",
      "Level 3 severity: 16.84% of total accidents\n",
      "Level 4 severity: 2.59% of total accidents\n"
     ]
    }
   ],
   "source": [
    "count_sev_1 = len(df[df['Severity']==1])\n",
    "count_sev_2 = len(df[df['Severity']==2])\n",
    "count_sev_3 = len(df[df['Severity']==3])\n",
    "count_sev_4 = len(df[df['Severity']==4])\n",
    "\n",
    "pct_sev_1 = count_sev_1/(count_sev_1+count_sev_2+count_sev_3+count_sev_4)\n",
    "print(\"Level 1 severity:\", \"{0:.2f}%\".format(pct_sev_1*100),\"of total accidents\")\n",
    "pct_sev_2 = count_sev_2/(count_sev_1+count_sev_2+count_sev_3+count_sev_4)\n",
    "print(\"Level 2 severity:\", \"{0:.2f}%\".format(pct_sev_2*100),\"of total accidents\")\n",
    "pct_sev_3 = count_sev_3/(count_sev_1+count_sev_2+count_sev_3+count_sev_4)\n",
    "print(\"Level 3 severity:\", \"{0:.2f}%\".format(pct_sev_3*100),\"of total accidents\")\n",
    "pct_sev_4 = count_sev_4/(count_sev_1+count_sev_2+count_sev_3+count_sev_4)\n",
    "print(\"Level 4 severity:\", \"{0:.2f}%\".format(pct_sev_4*100),\"of total accidents\")"
   ]
  },
  {
   "cell_type": "code",
   "execution_count": 15,
   "id": "fbd16b1a",
   "metadata": {},
   "outputs": [
    {
     "data": {
      "text/html": [
       "<div>\n",
       "<style scoped>\n",
       "    .dataframe tbody tr th:only-of-type {\n",
       "        vertical-align: middle;\n",
       "    }\n",
       "\n",
       "    .dataframe tbody tr th {\n",
       "        vertical-align: top;\n",
       "    }\n",
       "\n",
       "    .dataframe thead th {\n",
       "        text-align: right;\n",
       "    }\n",
       "</style>\n",
       "<table border=\"1\" class=\"dataframe\">\n",
       "  <thead>\n",
       "    <tr style=\"text-align: right;\">\n",
       "      <th></th>\n",
       "      <th>Start_Lat</th>\n",
       "      <th>Start_Lng</th>\n",
       "      <th>Temperature(F)</th>\n",
       "      <th>Humidity(%)</th>\n",
       "    </tr>\n",
       "    <tr>\n",
       "      <th>Severity</th>\n",
       "      <th></th>\n",
       "      <th></th>\n",
       "      <th></th>\n",
       "      <th></th>\n",
       "    </tr>\n",
       "  </thead>\n",
       "  <tbody>\n",
       "    <tr>\n",
       "      <th>1</th>\n",
       "      <td>35.694503</td>\n",
       "      <td>-94.659939</td>\n",
       "      <td>72.448856</td>\n",
       "      <td>61.875078</td>\n",
       "    </tr>\n",
       "    <tr>\n",
       "      <th>2</th>\n",
       "      <td>36.039196</td>\n",
       "      <td>-95.069680</td>\n",
       "      <td>61.572254</td>\n",
       "      <td>64.661777</td>\n",
       "    </tr>\n",
       "    <tr>\n",
       "      <th>3</th>\n",
       "      <td>36.675217</td>\n",
       "      <td>-94.025756</td>\n",
       "      <td>62.223595</td>\n",
       "      <td>65.388889</td>\n",
       "    </tr>\n",
       "    <tr>\n",
       "      <th>4</th>\n",
       "      <td>37.856981</td>\n",
       "      <td>-88.618904</td>\n",
       "      <td>58.156160</td>\n",
       "      <td>67.319254</td>\n",
       "    </tr>\n",
       "  </tbody>\n",
       "</table>\n",
       "</div>"
      ],
      "text/plain": [
       "          Start_Lat  Start_Lng  Temperature(F)  Humidity(%)\n",
       "Severity                                                   \n",
       "1         35.694503 -94.659939       72.448856    61.875078\n",
       "2         36.039196 -95.069680       61.572254    64.661777\n",
       "3         36.675217 -94.025756       62.223595    65.388889\n",
       "4         37.856981 -88.618904       58.156160    67.319254"
      ]
     },
     "execution_count": 15,
     "metadata": {},
     "output_type": "execute_result"
    }
   ],
   "source": [
    "df.groupby('Severity').mean()"
   ]
  },
  {
   "cell_type": "code",
   "execution_count": 16,
   "id": "47961610",
   "metadata": {},
   "outputs": [
    {
     "data": {
      "text/html": [
       "<div>\n",
       "<style scoped>\n",
       "    .dataframe tbody tr th:only-of-type {\n",
       "        vertical-align: middle;\n",
       "    }\n",
       "\n",
       "    .dataframe tbody tr th {\n",
       "        vertical-align: top;\n",
       "    }\n",
       "\n",
       "    .dataframe thead th {\n",
       "        text-align: right;\n",
       "    }\n",
       "</style>\n",
       "<table border=\"1\" class=\"dataframe\">\n",
       "  <thead>\n",
       "    <tr style=\"text-align: right;\">\n",
       "      <th></th>\n",
       "      <th>Severity</th>\n",
       "      <th>Start_Lat</th>\n",
       "      <th>Start_Lng</th>\n",
       "      <th>Temperature(F)</th>\n",
       "      <th>Humidity(%)</th>\n",
       "    </tr>\n",
       "  </thead>\n",
       "  <tbody>\n",
       "    <tr>\n",
       "      <th>Severity</th>\n",
       "      <td>1.000000</td>\n",
       "      <td>0.069622</td>\n",
       "      <td>0.051299</td>\n",
       "      <td>-0.020290</td>\n",
       "      <td>0.022479</td>\n",
       "    </tr>\n",
       "    <tr>\n",
       "      <th>Start_Lat</th>\n",
       "      <td>0.069622</td>\n",
       "      <td>1.000000</td>\n",
       "      <td>-0.070047</td>\n",
       "      <td>-0.444249</td>\n",
       "      <td>0.022575</td>\n",
       "    </tr>\n",
       "    <tr>\n",
       "      <th>Start_Lng</th>\n",
       "      <td>0.051299</td>\n",
       "      <td>-0.070047</td>\n",
       "      <td>1.000000</td>\n",
       "      <td>-0.010261</td>\n",
       "      <td>0.179648</td>\n",
       "    </tr>\n",
       "    <tr>\n",
       "      <th>Temperature(F)</th>\n",
       "      <td>-0.020290</td>\n",
       "      <td>-0.444249</td>\n",
       "      <td>-0.010261</td>\n",
       "      <td>1.000000</td>\n",
       "      <td>-0.331296</td>\n",
       "    </tr>\n",
       "    <tr>\n",
       "      <th>Humidity(%)</th>\n",
       "      <td>0.022479</td>\n",
       "      <td>0.022575</td>\n",
       "      <td>0.179648</td>\n",
       "      <td>-0.331296</td>\n",
       "      <td>1.000000</td>\n",
       "    </tr>\n",
       "  </tbody>\n",
       "</table>\n",
       "</div>"
      ],
      "text/plain": [
       "                Severity  Start_Lat  Start_Lng  Temperature(F)  Humidity(%)\n",
       "Severity        1.000000   0.069622   0.051299       -0.020290     0.022479\n",
       "Start_Lat       0.069622   1.000000  -0.070047       -0.444249     0.022575\n",
       "Start_Lng       0.051299  -0.070047   1.000000       -0.010261     0.179648\n",
       "Temperature(F) -0.020290  -0.444249  -0.010261        1.000000    -0.331296\n",
       "Humidity(%)     0.022479   0.022575   0.179648       -0.331296     1.000000"
      ]
     },
     "execution_count": 16,
     "metadata": {},
     "output_type": "execute_result"
    }
   ],
   "source": [
    "# Looking for correlations in the data\n",
    "df.corr()"
   ]
  },
  {
   "cell_type": "markdown",
   "id": "4c5c13d9",
   "metadata": {},
   "source": [
    "As I start to explore the data, I want to literally map out the data \n",
    "I have used GeoDataFrame to map out Levels 1-4 Severity accidents to \n",
    "see if there are any noticeable geographic trends. The GeoDataFrame uses\n",
    "the Starting Latitude and Longitude to pinpoint accident location. The \n",
    "mapping was a good exercise, but due to the sheer quantity of data, this \n",
    "did not provide any insight into geographic trends."
   ]
  },
  {
   "cell_type": "code",
   "execution_count": 17,
   "id": "74d98f74",
   "metadata": {},
   "outputs": [
    {
     "data": {
      "text/plain": [
       "<AxesSubplot:>"
      ]
     },
     "execution_count": 17,
     "metadata": {},
     "output_type": "execute_result"
    },
    {
     "data": {
      "image/png": "[encoded data removed]",
      "text/plain": [
       "<Figure size 432x288 with 1 Axes>"
      ]
     },
     "metadata": {
      "needs_background": "light"
     },
     "output_type": "display_data"
    }
   ],
   "source": [
    "# Convert data to a GeoDataFrame by transforming the Latitude/Longitude coordinates \n",
    "# then plotting  data - \n",
    "# Level 1 Severity\n",
    "loc_crs = {'init': 'epsg:4326'}\n",
    "loc_geom = [Point(xy) for xy in zip(df['Start_Lng'], df['Start_Lat'])]\n",
    "geo_df = gpd.GeoDataFrame(df.loc[df['Severity']=='1'], crs=loc_crs, geometry=loc_geom)\n",
    "geo_df.plot()"
   ]
  },
  {
   "cell_type": "code",
   "execution_count": 18,
   "id": "3f8e5b47",
   "metadata": {},
   "outputs": [
    {
     "data": {
      "text/plain": [
       "<AxesSubplot:>"
      ]
     },
     "execution_count": 18,
     "metadata": {},
     "output_type": "execute_result"
    },
    {
     "data": {
      "image/png": "[encoded data removed]",
      "text/plain": [
       "<Figure size 432x288 with 1 Axes>"
      ]
     },
     "metadata": {
      "needs_background": "light"
     },
     "output_type": "display_data"
    }
   ],
   "source": [
    "# Level 2 Severity\n",
    "loc_crs = {'init': 'epsg:4326'}\n",
    "loc_geom = [Point(xy) for xy in zip(df['Start_Lng'], df['Start_Lat'])]\n",
    "geo_df = gpd.GeoDataFrame(df.loc[df['Severity']=='2'], crs=loc_crs, geometry=loc_geom)\n",
    "geo_df.plot()"
   ]
  },
  {
   "cell_type": "code",
   "execution_count": 19,
   "id": "569dce5b",
   "metadata": {},
   "outputs": [
    {
     "data": {
      "text/plain": [
       "<AxesSubplot:>"
      ]
     },
     "execution_count": 19,
     "metadata": {},
     "output_type": "execute_result"
    },
    {
     "data": {
      "image/png": "[encoded data removed]",
      "text/plain": [
       "<Figure size 432x288 with 1 Axes>"
      ]
     },
     "metadata": {
      "needs_background": "light"
     },
     "output_type": "display_data"
    }
   ],
   "source": [
    "# Level 3 Severity\n",
    "loc_crs = {'init': 'epsg:4326'}\n",
    "loc_geom = [Point(xy) for xy in zip(df['Start_Lng'], df['Start_Lat'])]\n",
    "geo_df = gpd.GeoDataFrame(df.loc[df['Severity']=='3'], crs=loc_crs, geometry=loc_geom)\n",
    "geo_df.plot()"
   ]
  },
  {
   "cell_type": "code",
   "execution_count": 20,
   "id": "7b38ae95",
   "metadata": {},
   "outputs": [
    {
     "data": {
      "text/plain": [
       "<AxesSubplot:>"
      ]
     },
     "execution_count": 20,
     "metadata": {},
     "output_type": "execute_result"
    },
    {
     "data": {
      "image/png": "[encoded data removed]",
      "text/plain": [
       "<Figure size 432x288 with 1 Axes>"
      ]
     },
     "metadata": {
      "needs_background": "light"
     },
     "output_type": "display_data"
    }
   ],
   "source": [
    "# Level 4 Severity\n",
    "loc_crs = {'init': 'epsg:4326'}\n",
    "loc_geom = [Point(xy) for xy in zip(df['Start_Lng'], df['Start_Lat'])]\n",
    "geo_df = gpd.GeoDataFrame(df.loc[df['Severity']=='1'], crs=loc_crs, geometry=loc_geom)\n",
    "geo_df.plot()"
   ]
  },
  {
   "cell_type": "code",
   "execution_count": 21,
   "id": "1d302ffc",
   "metadata": {},
   "outputs": [
    {
     "data": {
      "text/plain": [
       "<AxesSubplot:>"
      ]
     },
     "execution_count": 21,
     "metadata": {},
     "output_type": "execute_result"
    },
    {
     "data": {
      "image/png": "[encoded data removed]",
      "text/plain": [
       "<Figure size 432x288 with 1 Axes>"
      ]
     },
     "metadata": {
      "needs_background": "light"
     },
     "output_type": "display_data"
    }
   ],
   "source": [
    "# Plotting for all severity levels together\n",
    "loc_crs = {'init': 'epsg:4326'}\n",
    "loc_geom = [Point(xy) for xy in zip(df['Start_Lng'], df['Start_Lat'])]\n",
    "geo_df = gpd.GeoDataFrame(df, crs=loc_crs, geometry=loc_geom)\n",
    "geo_df.plot()"
   ]
  },
  {
   "cell_type": "code",
   "execution_count": 16,
   "id": "0ee37fd6",
   "metadata": {},
   "outputs": [],
   "source": [
    "# Creating dummy variables for categorical variables\n",
    "df = pd.concat((df, pd.get_dummies(df.Sunrise_Sunset)),1)\n",
    "df.drop(['Sunrise_Sunset'], axis=1, inplace=True)"
   ]
  },
  {
   "cell_type": "code",
   "execution_count": 17,
   "id": "16e60427",
   "metadata": {},
   "outputs": [],
   "source": [
    "# Creating dummy variables for categorical variables\n",
    "df = pd.concat((df, pd.get_dummies(df.Weather_Condition)), 1)\n",
    "df.drop(['Weather_Condition'], axis = 1, inplace = True)"
   ]
  },
  {
   "cell_type": "code",
   "execution_count": 25,
   "id": "689706d7",
   "metadata": {},
   "outputs": [],
   "source": [
    "# Dropping the geometric point data in order to model\n",
    "df.drop('geometry', axis=1, inplace=True)"
   ]
  },
  {
   "cell_type": "code",
   "execution_count": 18,
   "id": "57338310",
   "metadata": {},
   "outputs": [],
   "source": [
    "# We are now going to get absolute values on any variable that has a negative value in the df\n",
    "# While scaling will fix this to an extent, it does not help when it comes time for using the\n",
    "# chi-squared metric for feature selection. To reduce re-work, we will proceed as below:\n",
    "df['Start_Lat'] = df['Start_Lat'].abs()\n",
    "df['Start_Lng'] = df['Start_Lng'].abs()\n",
    "df['Temperature(F)'] = df['Temperature(F)'].abs()\n",
    "df['Humidity(%)'] = df['Humidity(%)'].abs()   "
   ]
  },
  {
   "cell_type": "code",
   "execution_count": 19,
   "id": "525fa656",
   "metadata": {},
   "outputs": [],
   "source": [
    "# df has prepared data - saving df2 with original df as a placeholder\n",
    "df2 = df"
   ]
  },
  {
   "cell_type": "code",
   "execution_count": 28,
   "id": "600bc9bd",
   "metadata": {},
   "outputs": [],
   "source": [
    "# Using resampling in order to address the balance issue, with Level 2 severity being significantly \n",
    "# higher than the other severities combined\n",
    "\n",
    "from sklearn.utils import resample\n",
    " \n",
    "# Put the majority class and minority class on separate dataframes\n",
    "majority_df = df2[df2[\"Severity\"]==2]\n",
    "minority_df = df2[df2[\"Severity\"]!=2]  \n",
    " \n",
    "# Oversampling the minority class randomly\n",
    "new_minority_df = resample(minority_df, replace = True, \n",
    "                            n_samples = len(majority_df), \n",
    "                            random_state = 0 )\n",
    " \n",
    "# Combine the new minority class with the majority class\n",
    "balanced_df = pd.concat([majority_df, new_minority_df])"
   ]
  },
  {
   "cell_type": "code",
   "execution_count": 29,
   "id": "6197a102",
   "metadata": {},
   "outputs": [],
   "source": [
    "# Target and Feature creation with 20% testing split\n",
    "X = balanced_df.loc[ : , balanced_df.columns != 'Severity'] \n",
    "y = balanced_df.Severity \n",
    "X_train, X_test, y_train, y_test = train_test_split(X, y, test_size=0.2, random_state=1) "
   ]
  },
  {
   "cell_type": "markdown",
   "id": "55e7e1f5",
   "metadata": {},
   "source": [
    "#### Decision Tree Model"
   ]
  },
  {
   "cell_type": "code",
   "execution_count": 30,
   "id": "80d22259",
   "metadata": {},
   "outputs": [
    {
     "name": "stdout",
     "output_type": "stream",
     "text": [
      "Model Accuracy with Criterion Gini Index of 0.9253\n",
      "[[  50153    1480     205      41]\n",
      " [  11731 1046490  101524   34691]\n",
      " [    239   15400  974033    1240]\n",
      " [     45   10654    1248  140968]]\n"
     ]
    }
   ],
   "source": [
    "# Creating and training Decision Tree classifier object\n",
    "# Using that to predict response for test data\n",
    "clf = DecisionTreeClassifier()\n",
    "clf = clf.fit(X_train, y_train)\n",
    "y_pred = clf.predict(X_test)\n",
    "\n",
    "# Reporting model accuracy and creating a confusion matrix for the model prediction on the test set\n",
    "print(\"Model Accuracy with Criterion Gini Index of {0:0.4f}\". format(accuracy_score(y_test, y_pred)))\n",
    "print(confusion_matrix(y_test, y_pred))\n",
    "\n",
    "# Accuracy is 92.5% which seems a bit high, but perhaps due to already disproportionately high \n",
    "# instances of losses of 2nd level Severity?"
   ]
  },
  {
   "cell_type": "code",
   "execution_count": 31,
   "id": "d0535cae",
   "metadata": {},
   "outputs": [
    {
     "name": "stdout",
     "output_type": "stream",
     "text": [
      "Accuracy: 0.5533190078246397\n",
      "[[      0   51555     324       0]\n",
      " [      0 1037949  156487       0]\n",
      " [      0  706350  284562       0]\n",
      " [      0  121465   31450       0]]\n"
     ]
    }
   ],
   "source": [
    "# Tree optimization\n",
    "# Creating and training Decision Tree classifer object and using that to predict response for test data\n",
    "clf = DecisionTreeClassifier(criterion=\"entropy\", max_depth=3)\n",
    "clf = clf.fit(X_train,y_train)\n",
    "y_pred = clf.predict(X_test)\n",
    "# Model accuracy\n",
    "print(\"Accuracy:\",metrics.accuracy_score(y_test, y_pred))\n",
    "print(confusion_matrix(y_test, y_pred))\n",
    "\n",
    "# We see here 55.5% which is significantly lower than our initial iteration of the model"
   ]
  },
  {
   "cell_type": "code",
   "execution_count": 32,
   "id": "6172f369",
   "metadata": {},
   "outputs": [
    {
     "name": "stdout",
     "output_type": "stream",
     "text": [
      "[2 2 2 2 2]\n"
     ]
    }
   ],
   "source": [
    "# Making predictions with our model\n",
    "predictions = clf.predict(X_test)\n",
    "print(predictions[:5])\n",
    "\n",
    "# 5 predictions indicating the predicted severity of 5 losses\n",
    "# We see all 2s, which may go back to the original concern that there are such a high proportion of\n",
    "# losses rated a 2 in severity that a default assumption of 2 level severity is as good a guess as\n",
    "# what the model shows - even after balancing the classes via resampling"
   ]
  },
  {
   "cell_type": "code",
   "execution_count": 33,
   "id": "9f5bbef0",
   "metadata": {
    "scrolled": true
   },
   "outputs": [
    {
     "data": {
      "text/plain": [
       "[Text(0.5, 0.875, 'X[22] <= 0.5\\nentropy = 1.399\\nsamples = 9560566\\nvalue = [206477, 4780918, 3964679, 608492]'),\n",
       " Text(0.25, 0.625, 'X[12] <= 0.5\\nentropy = 1.37\\nsamples = 6757760\\nvalue = [100060, 3015687, 3216941, 425072]'),\n",
       " Text(0.125, 0.375, 'X[94] <= 0.5\\nentropy = 1.385\\nsamples = 5480403\\nvalue = [99041, 2587652, 2450897, 342813]'),\n",
       " Text(0.0625, 0.125, 'entropy = 1.39\\nsamples = 4862293\\nvalue = [98643, 2389425, 2075020, 299205]'),\n",
       " Text(0.1875, 0.125, 'entropy = 1.239\\nsamples = 618110\\nvalue = [398, 198227, 375877, 43608]'),\n",
       " Text(0.375, 0.375, 'X[1] <= 117.03\\nentropy = 1.234\\nsamples = 1277357\\nvalue = [1019, 428035, 766044, 82259]'),\n",
       " Text(0.3125, 0.125, 'entropy = 1.311\\nsamples = 820167\\nvalue = [627, 288815, 460084, 70641]'),\n",
       " Text(0.4375, 0.125, 'entropy = 1.054\\nsamples = 457190\\nvalue = [392, 139220, 305960, 11618]'),\n",
       " Text(0.75, 0.625, 'X[1] <= 110.687\\nentropy = 1.365\\nsamples = 2802806\\nvalue = [106417, 1765231, 747738, 183420]'),\n",
       " Text(0.625, 0.375, 'X[1] <= 82.897\\nentropy = 1.444\\nsamples = 1828169\\nvalue = [64664, 1068033, 541548, 153924]'),\n",
       " Text(0.5625, 0.125, 'entropy = 1.386\\nsamples = 1032290\\nvalue = [39497, 667232, 231520, 94041]'),\n",
       " Text(0.6875, 0.125, 'entropy = 1.467\\nsamples = 795879\\nvalue = [25167, 400801, 310028, 59883]'),\n",
       " Text(0.875, 0.375, 'X[1] <= 112.591\\nentropy = 1.167\\nsamples = 974637\\nvalue = [41753, 697198, 206190, 29496]'),\n",
       " Text(0.8125, 0.125, 'entropy = 1.506\\nsamples = 119838\\nvalue = [19386, 73248, 21928, 5276]'),\n",
       " Text(0.9375, 0.125, 'entropy = 1.092\\nsamples = 854799\\nvalue = [22367, 623950, 184262, 24220]')]"
      ]
     },
     "execution_count": 33,
     "metadata": {},
     "output_type": "execute_result"
    },
    {
     "data": {
      "image/png": "[encoded data removed]",
      "text/plain": [
       "<Figure size 864x576 with 1 Axes>"
      ]
     },
     "metadata": {
      "needs_background": "light"
     },
     "output_type": "display_data"
    }
   ],
   "source": [
    "# Visualizing the Decision Tree\n",
    "\n",
    "from sklearn import tree\n",
    "\n",
    "plt.figure(figsize=(12, 8))\n",
    "tree.plot_tree(clf.fit(X_train, y_train), filled=True)"
   ]
  },
  {
   "cell_type": "code",
   "execution_count": 34,
   "id": "bcb30239",
   "metadata": {},
   "outputs": [
    {
     "data": {
      "image/png": "[encoded data removed]",
      "text/plain": [
       "<Figure size 432x288 with 2 Axes>"
      ]
     },
     "metadata": {
      "needs_background": "light"
     },
     "output_type": "display_data"
    },
    {
     "data": {
      "text/plain": [
       "<Figure size 720x504 with 0 Axes>"
      ]
     },
     "metadata": {},
     "output_type": "display_data"
    }
   ],
   "source": [
    "# Visualizing with a Confusion Matrix\n",
    "from sklearn import metrics\n",
    "import seaborn as sns\n",
    "import matplotlib.pyplot as plt  \n",
    "\n",
    "confusion_matrix = metrics.confusion_matrix(y_test,  y_pred)\n",
    "matrix_df = pd.DataFrame(confusion_matrix)\n",
    "ax = plt.axes()\n",
    "\n",
    "sns.set(font_scale=1.3)\n",
    "plt.figure(figsize=(10, 7))\n",
    "sns.heatmap(matrix_df, annot=True, fmt=\"g\", ax=ax, cmap=\"Blues\") \n",
    "ax.set_title('Confusion Matrix - Decision Tree')\n",
    "ax.set_xlabel('Predicted Severity', fontsize=15)\n",
    "ax.set_ylabel('Actual Severity', fontsize=15)\n",
    "plt.show()"
   ]
  },
  {
   "cell_type": "code",
   "execution_count": 35,
   "id": "f561de55",
   "metadata": {},
   "outputs": [
    {
     "data": {
      "text/plain": [
       "array(['Severity', 'Start_Lng', 'Temperature(F)', 'Clear', 'Fair'],\n",
       "      dtype=object)"
      ]
     },
     "execution_count": 35,
     "metadata": {},
     "output_type": "execute_result"
    }
   ],
   "source": [
    "# Chi-Squared metric to try to select the top 5 features:\n",
    "sel5 = SelectKBest(score_func=chi2, k=5)\n",
    "sel5.fit(balanced_df.fillna(0), y)\n",
    "balanced_df.columns[sel5.get_support()].to_numpy()"
   ]
  },
  {
   "cell_type": "code",
   "execution_count": 36,
   "id": "37a52456",
   "metadata": {},
   "outputs": [
    {
     "name": "stdout",
     "output_type": "stream",
     "text": [
      "Variable: Duststorm            Importance: 0.49\n",
      "Variable: Start_Lat            Importance: 0.23\n",
      "Variable: Blowing Snow Nearby  Importance: 0.16\n",
      "Variable: N/A Precipitation    Importance: 0.12\n",
      "Variable: Severity             Importance: 0.0\n",
      "Variable: Start_Lng            Importance: 0.0\n",
      "Variable: Temperature(F)       Importance: 0.0\n",
      "Variable: Humidity(%)          Importance: 0.0\n",
      "Variable: Day                  Importance: 0.0\n",
      "Variable: Night                Importance: 0.0\n",
      "Variable: Blowing Dust         Importance: 0.0\n",
      "Variable: Blowing Dust / Windy Importance: 0.0\n",
      "Variable: Blowing Sand         Importance: 0.0\n",
      "Variable: Blowing Snow         Importance: 0.0\n",
      "Variable: Blowing Snow / Windy Importance: 0.0\n",
      "Variable: Clear                Importance: 0.0\n",
      "Variable: Cloudy               Importance: 0.0\n",
      "Variable: Cloudy / Windy       Importance: 0.0\n",
      "Variable: Drifting Snow        Importance: 0.0\n",
      "Variable: Drifting Snow / Windy Importance: 0.0\n",
      "Variable: Drizzle              Importance: 0.0\n",
      "Variable: Drizzle / Windy      Importance: 0.0\n",
      "Variable: Drizzle and Fog      Importance: 0.0\n",
      "Variable: Dust Whirls          Importance: 0.0\n",
      "Variable: Fair                 Importance: 0.0\n",
      "Variable: Fair / Windy         Importance: 0.0\n",
      "Variable: Fog                  Importance: 0.0\n",
      "Variable: Fog / Windy          Importance: 0.0\n",
      "Variable: Freezing Drizzle     Importance: 0.0\n",
      "Variable: Freezing Rain        Importance: 0.0\n",
      "Variable: Freezing Rain / Windy Importance: 0.0\n",
      "Variable: Funnel Cloud         Importance: 0.0\n",
      "Variable: Hail                 Importance: 0.0\n",
      "Variable: Haze                 Importance: 0.0\n",
      "Variable: Haze / Windy         Importance: 0.0\n",
      "Variable: Heavy Blowing Snow   Importance: 0.0\n",
      "Variable: Heavy Drizzle        Importance: 0.0\n",
      "Variable: Heavy Freezing Drizzle Importance: 0.0\n",
      "Variable: Heavy Freezing Rain  Importance: 0.0\n",
      "Variable: Heavy Freezing Rain / Windy Importance: 0.0\n",
      "Variable: Heavy Ice Pellets    Importance: 0.0\n",
      "Variable: Heavy Rain           Importance: 0.0\n",
      "Variable: Heavy Rain / Windy   Importance: 0.0\n",
      "Variable: Heavy Rain Shower    Importance: 0.0\n",
      "Variable: Heavy Rain Shower / Windy Importance: 0.0\n",
      "Variable: Heavy Rain Showers   Importance: 0.0\n",
      "Variable: Heavy Sleet          Importance: 0.0\n",
      "Variable: Heavy Sleet / Windy  Importance: 0.0\n",
      "Variable: Heavy Sleet and Thunder Importance: 0.0\n",
      "Variable: Heavy Smoke          Importance: 0.0\n",
      "Variable: Heavy Snow           Importance: 0.0\n",
      "Variable: Heavy Snow / Windy   Importance: 0.0\n",
      "Variable: Heavy Snow with Thunder Importance: 0.0\n",
      "Variable: Heavy T-Storm        Importance: 0.0\n",
      "Variable: Heavy T-Storm / Windy Importance: 0.0\n",
      "Variable: Heavy Thunderstorms and Rain Importance: 0.0\n",
      "Variable: Heavy Thunderstorms and Snow Importance: 0.0\n",
      "Variable: Heavy Thunderstorms with Small Hail Importance: 0.0\n",
      "Variable: Ice Pellets          Importance: 0.0\n",
      "Variable: Light Blowing Snow   Importance: 0.0\n",
      "Variable: Light Drizzle        Importance: 0.0\n",
      "Variable: Light Drizzle / Windy Importance: 0.0\n",
      "Variable: Light Fog            Importance: 0.0\n",
      "Variable: Light Freezing Drizzle Importance: 0.0\n",
      "Variable: Light Freezing Fog   Importance: 0.0\n",
      "Variable: Light Freezing Rain  Importance: 0.0\n",
      "Variable: Light Freezing Rain / Windy Importance: 0.0\n",
      "Variable: Light Hail           Importance: 0.0\n",
      "Variable: Light Haze           Importance: 0.0\n",
      "Variable: Light Ice Pellets    Importance: 0.0\n",
      "Variable: Light Rain           Importance: 0.0\n",
      "Variable: Light Rain / Windy   Importance: 0.0\n",
      "Variable: Light Rain Shower    Importance: 0.0\n",
      "Variable: Light Rain Shower / Windy Importance: 0.0\n",
      "Variable: Light Rain Showers   Importance: 0.0\n",
      "Variable: Light Rain with Thunder Importance: 0.0\n",
      "Variable: Light Sleet          Importance: 0.0\n",
      "Variable: Light Sleet / Windy  Importance: 0.0\n",
      "Variable: Light Snow           Importance: 0.0\n",
      "Variable: Light Snow / Windy   Importance: 0.0\n",
      "Variable: Light Snow Grains    Importance: 0.0\n",
      "Variable: Light Snow Shower    Importance: 0.0\n",
      "Variable: Light Snow Shower / Windy Importance: 0.0\n",
      "Variable: Light Snow Showers   Importance: 0.0\n",
      "Variable: Light Snow and Sleet Importance: 0.0\n",
      "Variable: Light Snow and Sleet / Windy Importance: 0.0\n",
      "Variable: Light Snow with Thunder Importance: 0.0\n",
      "Variable: Light Thunderstorm   Importance: 0.0\n",
      "Variable: Light Thunderstorms and Rain Importance: 0.0\n",
      "Variable: Light Thunderstorms and Snow Importance: 0.0\n",
      "Variable: Low Drifting Snow    Importance: 0.0\n",
      "Variable: Mist                 Importance: 0.0\n",
      "Variable: Mist / Windy         Importance: 0.0\n",
      "Variable: Mostly Cloudy        Importance: 0.0\n",
      "Variable: Mostly Cloudy / Windy Importance: 0.0\n",
      "Variable: Overcast             Importance: 0.0\n",
      "Variable: Partial Fog          Importance: 0.0\n",
      "Variable: Partial Fog / Windy  Importance: 0.0\n",
      "Variable: Partly Cloudy        Importance: 0.0\n",
      "Variable: Partly Cloudy / Windy Importance: 0.0\n",
      "Variable: Patches of Fog       Importance: 0.0\n",
      "Variable: Patches of Fog / Windy Importance: 0.0\n",
      "Variable: Rain                 Importance: 0.0\n",
      "Variable: Rain / Windy         Importance: 0.0\n",
      "Variable: Rain Shower          Importance: 0.0\n",
      "Variable: Rain Shower / Windy  Importance: 0.0\n",
      "Variable: Rain Showers         Importance: 0.0\n",
      "Variable: Rain and Sleet       Importance: 0.0\n",
      "Variable: Sand / Dust Whirls Nearby Importance: 0.0\n",
      "Variable: Sand / Dust Whirlwinds Importance: 0.0\n",
      "Variable: Sand / Dust Whirlwinds / Windy Importance: 0.0\n",
      "Variable: Sand / Windy         Importance: 0.0\n",
      "Variable: Scattered Clouds     Importance: 0.0\n",
      "Variable: Shallow Fog          Importance: 0.0\n",
      "Variable: Shallow Fog / Windy  Importance: 0.0\n",
      "Variable: Showers in the Vicinity Importance: 0.0\n",
      "Variable: Sleet                Importance: 0.0\n",
      "Variable: Sleet / Windy        Importance: 0.0\n",
      "Variable: Sleet and Thunder    Importance: 0.0\n",
      "Variable: Small Hail           Importance: 0.0\n",
      "Variable: Smoke                Importance: 0.0\n",
      "Variable: Smoke / Windy        Importance: 0.0\n",
      "Variable: Snow                 Importance: 0.0\n",
      "Variable: Snow / Windy         Importance: 0.0\n",
      "Variable: Snow Grains          Importance: 0.0\n",
      "Variable: Snow Showers         Importance: 0.0\n",
      "Variable: Snow and Sleet       Importance: 0.0\n",
      "Variable: Snow and Sleet / Windy Importance: 0.0\n",
      "Variable: Snow and Thunder     Importance: 0.0\n",
      "Variable: Snow and Thunder / Windy Importance: 0.0\n",
      "Variable: Squalls              Importance: 0.0\n",
      "Variable: Squalls / Windy      Importance: 0.0\n",
      "Variable: T-Storm              Importance: 0.0\n",
      "Variable: T-Storm / Windy      Importance: 0.0\n",
      "Variable: Thunder              Importance: 0.0\n",
      "Variable: Thunder / Windy      Importance: 0.0\n",
      "Variable: Thunder / Wintry Mix Importance: 0.0\n",
      "Variable: Thunder / Wintry Mix / Windy Importance: 0.0\n",
      "Variable: Thunder and Hail     Importance: 0.0\n",
      "Variable: Thunder and Hail / Windy Importance: 0.0\n",
      "Variable: Thunder in the Vicinity Importance: 0.0\n",
      "Variable: Thunderstorm         Importance: 0.0\n",
      "Variable: Thunderstorms and Rain Importance: 0.0\n",
      "Variable: Thunderstorms and Snow Importance: 0.0\n",
      "Variable: Tornado              Importance: 0.0\n",
      "Variable: Volcanic Ash         Importance: 0.0\n",
      "Variable: Widespread Dust      Importance: 0.0\n",
      "Variable: Widespread Dust / Windy Importance: 0.0\n",
      "Variable: Wintry Mix           Importance: 0.0\n"
     ]
    }
   ],
   "source": [
    "# Create a feature list from our dataframe\n",
    "feature_list = list(balanced_df.columns)\n",
    "\n",
    "# Getting numerical feature importance:\n",
    "importances = list(clf.feature_importances_)\n",
    "\n",
    "# List of tuples with variables and importance\n",
    "feature_importances = [(feature, round(importance, 2)) for feature, importance in zip(feature_list, importances)]\n",
    "\n",
    "# Sorting the feature importance in descending order by importance\n",
    "feature_importances = sorted(feature_importances, key=lambda x: x[1], reverse=True)\n",
    "\n",
    "# Printing the feature and importances \n",
    "[print('Variable: {:20} Importance: {}'.format(*pair)) for pair in feature_importances];\n",
    "\n",
    "# Note - This is different from the previous list of top features, and this actually\n",
    "# accounts for the fact that Severity itself should be removed from the calculation.\n",
    "# This helps us see that weather conditions and location (as latitude) do play a part\n",
    "# in determining severity"
   ]
  },
  {
   "cell_type": "code",
   "execution_count": 37,
   "id": "21567f2c",
   "metadata": {},
   "outputs": [],
   "source": [
    "# Use top 5 features with Decision Tree\n",
    "\n",
    "top5 = sel5.transform(balanced_df)\n",
    "top5 = pd.DataFrame(top5)"
   ]
  },
  {
   "cell_type": "code",
   "execution_count": 38,
   "id": "dbb9536f",
   "metadata": {},
   "outputs": [
    {
     "name": "stdout",
     "output_type": "stream",
     "text": [
      "Model Accuracy with index of 1.0000\n",
      "[[  51558       0       0       0]\n",
      " [      0 1194862       0       0]\n",
      " [      0       0  991324       0]\n",
      " [      0       0       0  152398]]\n"
     ]
    }
   ],
   "source": [
    "# Model Accuracy\n",
    "\n",
    "from sklearn.model_selection import train_test_split\n",
    "from sklearn.metrics import confusion_matrix\n",
    "\n",
    "X_train, X_test, y_train, y_test = train_test_split(top5, y, test_size=0.2)\n",
    "clf = DecisionTreeClassifier()\n",
    "clf.fit(X_train, y_train)\n",
    "y_pred = clf.predict(X_test)\n",
    "\n",
    "print(\"Model Accuracy with index of {0:0.4f}\". format(accuracy_score(y_test, y_pred)))\n",
    "print(confusion_matrix(y_test, y_pred))\n",
    "\n",
    "# Here we see that when we limit to 5 variables we get an index score of 1.0 which means\n",
    "# that there is no relationship between the variables - that is the results are possibly\n",
    "# totally random using the model as-is"
   ]
  },
  {
   "cell_type": "code",
   "execution_count": 39,
   "id": "ac86f01b",
   "metadata": {},
   "outputs": [
    {
     "name": "stdout",
     "output_type": "stream",
     "text": [
      "              precision    recall  f1-score   support\n",
      "\n",
      "           1       1.00      1.00      1.00     51558\n",
      "           2       1.00      1.00      1.00   1194862\n",
      "           3       1.00      1.00      1.00    991324\n",
      "           4       1.00      1.00      1.00    152398\n",
      "\n",
      "    accuracy                           1.00   2390142\n",
      "   macro avg       1.00      1.00      1.00   2390142\n",
      "weighted avg       1.00      1.00      1.00   2390142\n",
      "\n"
     ]
    }
   ],
   "source": [
    "# Evaluate the Decision Tree that used top 5 features\n",
    "\n",
    "print(metrics.classification_report(y_test, y_pred))"
   ]
  },
  {
   "cell_type": "markdown",
   "id": "45629c02",
   "metadata": {},
   "source": [
    "### References:\n",
    "\n",
    "Kashnitsky, Yuri. “Logistic Regression-Tf-IDF Baseline.” Kaggle, Kaggle, 22 May 2019, https://www.kaggle.com/code/kashnitsky/logistic-regression-tf-idf-baseline/notebook.\n",
    "\n",
    "Koehrson, Will. “Random Forest in Python - towards Data Science.” Towards Data Science, 27 Dec. 2017, https://towardsdatascience.com/random-forest-in-python-24d0893d51c0.\n",
    "\n",
    "Moosavi, Sobhan, Mohammad Hossein Samavatian, Srinivasan Parthasarathy, and Rajiv Ramnath. Moosavi, Sobhan. “US Accidents (2016 - 2021).” Kaggle, 12 Mar. 2022, https://www.kaggle.com/datasets/sobhanmoosavi/us-accidents., arXiv preprint arXiv:1906.05409 (2019).\n",
    "\n",
    "Moosavi, Sobhan, Mohammad Hossein Samavatian, Srinivasan Parthasarathy, Radu Teodorescu, and Rajiv Ramnath. Moosavi, Sobhan. “US Accidents (2016 - 2021).” Kaggle, 12 Mar. 2022, https://www.kaggle.com/datasets/sobhanmoosavi/us -accidents. In proceedings of the 27th ACM SIGSPATIAL International Conference on Advances in Geographic Information Systems, ACM, 2019."
   ]
  },
  {
   "cell_type": "code",
   "execution_count": null,
   "id": "58e1c44f",
   "metadata": {},
   "outputs": [],
   "source": []
  }
 ],
 "metadata": {
  "kernelspec": {
   "display_name": "Python 3 (ipykernel)",
   "language": "python",
   "name": "python3"
  },
  "language_info": {
   "codemirror_mode": {
    "name": "ipython",
    "version": 3
   },
   "file_extension": ".py",
   "mimetype": "text/x-python",
   "name": "python",
   "nbconvert_exporter": "python",
   "pygments_lexer": "ipython3",
   "version": "3.9.12"
  }
 },
 "nbformat": 4,
 "nbformat_minor": 5
}
